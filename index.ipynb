{
 "cells": [
  {
   "cell_type": "markdown",
   "metadata": {},
   "source": [
    "# Project - Data Cleaning\n",
    "\n",
    "## Introduction\n",
    "In this lab, we'll make use of everything we've learned about pandas, data cleaning, and exploratory data analysis. In order to complete this lab, you'll have to import, clean, combine, reshape, and visualize data to answer questions provided, as well as your own questions!\n",
    "\n",
    "## Objectives\n",
    "You will be able to:\n",
    "- Use different types of joins to merge DataFrames \n",
    "- Identify missing values in a dataframe using built-in methods \n",
    "- Evaluate and execute the best strategy for dealing with missing, duplicate, and erroneous values for a given dataset \n",
    "- Inspect data for duplicates or extraneous values and remove them \n",
    "\n",
    "\n",
    "## The dataset\n",
    "In this lab, we'll work with the comprehensive [Super Heroes Dataset](https://www.kaggle.com/claudiodavi/superhero-set/data), which can be found on Kaggle!\n",
    "\n",
    "\n",
    "## Getting Started\n",
    "\n",
    "In the cell below:\n",
    "\n",
    "* Import and alias pandas as `pd`\n",
    "* Import and alias numpy as `np`\n",
    "* Import and alias seaborn as `sns`\n",
    "* Import and alias matplotlib.pyplot as `plt`\n",
    "* Set matplotlib visualizations to display inline in the notebook"
   ]
  },
  {
   "cell_type": "code",
   "execution_count": 1,
   "metadata": {},
   "outputs": [],
   "source": [
    "import pandas as pd\n",
    "import numpy as np\n",
    "import seaborn as sns\n",
    "import matplotlib.pyplot as plt\n",
    "%matplotlib inline"
   ]
  },
  {
   "cell_type": "markdown",
   "metadata": {},
   "source": [
    "For this lab, our dataset is split among two different sources -- `'heroes_information.csv'` and `'super_hero_powers.csv'`.\n",
    "\n",
    "Use pandas to read in each file and store them in DataFrames in the appropriate variables below. Then, display the `.head()` of each to ensure that everything loaded correctly.  "
   ]
  },
  {
   "cell_type": "code",
   "execution_count": 2,
   "metadata": {},
   "outputs": [],
   "source": [
    "heroes_df = pd.read_csv('heroes_information.csv')\n",
    "powers_df = pd.read_csv('super_hero_powers.csv')"
   ]
  },
  {
   "cell_type": "code",
   "execution_count": 3,
   "metadata": {},
   "outputs": [
    {
     "data": {
      "text/html": [
       "<div>\n",
       "<style scoped>\n",
       "    .dataframe tbody tr th:only-of-type {\n",
       "        vertical-align: middle;\n",
       "    }\n",
       "\n",
       "    .dataframe tbody tr th {\n",
       "        vertical-align: top;\n",
       "    }\n",
       "\n",
       "    .dataframe thead th {\n",
       "        text-align: right;\n",
       "    }\n",
       "</style>\n",
       "<table border=\"1\" class=\"dataframe\">\n",
       "  <thead>\n",
       "    <tr style=\"text-align: right;\">\n",
       "      <th></th>\n",
       "      <th>Unnamed: 0</th>\n",
       "      <th>name</th>\n",
       "      <th>Gender</th>\n",
       "      <th>Eye color</th>\n",
       "      <th>Race</th>\n",
       "      <th>Hair color</th>\n",
       "      <th>Height</th>\n",
       "      <th>Publisher</th>\n",
       "      <th>Skin color</th>\n",
       "      <th>Alignment</th>\n",
       "      <th>Weight</th>\n",
       "    </tr>\n",
       "  </thead>\n",
       "  <tbody>\n",
       "    <tr>\n",
       "      <th>0</th>\n",
       "      <td>0</td>\n",
       "      <td>A-Bomb</td>\n",
       "      <td>Male</td>\n",
       "      <td>yellow</td>\n",
       "      <td>Human</td>\n",
       "      <td>No Hair</td>\n",
       "      <td>203.0</td>\n",
       "      <td>Marvel Comics</td>\n",
       "      <td>-</td>\n",
       "      <td>good</td>\n",
       "      <td>441.0</td>\n",
       "    </tr>\n",
       "    <tr>\n",
       "      <th>1</th>\n",
       "      <td>1</td>\n",
       "      <td>Abe Sapien</td>\n",
       "      <td>Male</td>\n",
       "      <td>blue</td>\n",
       "      <td>Icthyo Sapien</td>\n",
       "      <td>No Hair</td>\n",
       "      <td>191.0</td>\n",
       "      <td>Dark Horse Comics</td>\n",
       "      <td>blue</td>\n",
       "      <td>good</td>\n",
       "      <td>65.0</td>\n",
       "    </tr>\n",
       "    <tr>\n",
       "      <th>2</th>\n",
       "      <td>2</td>\n",
       "      <td>Abin Sur</td>\n",
       "      <td>Male</td>\n",
       "      <td>blue</td>\n",
       "      <td>Ungaran</td>\n",
       "      <td>No Hair</td>\n",
       "      <td>185.0</td>\n",
       "      <td>DC Comics</td>\n",
       "      <td>red</td>\n",
       "      <td>good</td>\n",
       "      <td>90.0</td>\n",
       "    </tr>\n",
       "    <tr>\n",
       "      <th>3</th>\n",
       "      <td>3</td>\n",
       "      <td>Abomination</td>\n",
       "      <td>Male</td>\n",
       "      <td>green</td>\n",
       "      <td>Human / Radiation</td>\n",
       "      <td>No Hair</td>\n",
       "      <td>203.0</td>\n",
       "      <td>Marvel Comics</td>\n",
       "      <td>-</td>\n",
       "      <td>bad</td>\n",
       "      <td>441.0</td>\n",
       "    </tr>\n",
       "    <tr>\n",
       "      <th>4</th>\n",
       "      <td>4</td>\n",
       "      <td>Abraxas</td>\n",
       "      <td>Male</td>\n",
       "      <td>blue</td>\n",
       "      <td>Cosmic Entity</td>\n",
       "      <td>Black</td>\n",
       "      <td>-99.0</td>\n",
       "      <td>Marvel Comics</td>\n",
       "      <td>-</td>\n",
       "      <td>bad</td>\n",
       "      <td>-99.0</td>\n",
       "    </tr>\n",
       "  </tbody>\n",
       "</table>\n",
       "</div>"
      ],
      "text/plain": [
       "   Unnamed: 0         name Gender Eye color               Race Hair color  \\\n",
       "0           0       A-Bomb   Male    yellow              Human    No Hair   \n",
       "1           1   Abe Sapien   Male      blue      Icthyo Sapien    No Hair   \n",
       "2           2     Abin Sur   Male      blue            Ungaran    No Hair   \n",
       "3           3  Abomination   Male     green  Human / Radiation    No Hair   \n",
       "4           4      Abraxas   Male      blue      Cosmic Entity      Black   \n",
       "\n",
       "   Height          Publisher Skin color Alignment  Weight  \n",
       "0   203.0      Marvel Comics          -      good   441.0  \n",
       "1   191.0  Dark Horse Comics       blue      good    65.0  \n",
       "2   185.0          DC Comics        red      good    90.0  \n",
       "3   203.0      Marvel Comics          -       bad   441.0  \n",
       "4   -99.0      Marvel Comics          -       bad   -99.0  "
      ]
     },
     "execution_count": 3,
     "metadata": {},
     "output_type": "execute_result"
    }
   ],
   "source": [
    "heroes_df.head()"
   ]
  },
  {
   "cell_type": "code",
   "execution_count": 4,
   "metadata": {},
   "outputs": [
    {
     "data": {
      "text/html": [
       "<div>\n",
       "<style scoped>\n",
       "    .dataframe tbody tr th:only-of-type {\n",
       "        vertical-align: middle;\n",
       "    }\n",
       "\n",
       "    .dataframe tbody tr th {\n",
       "        vertical-align: top;\n",
       "    }\n",
       "\n",
       "    .dataframe thead th {\n",
       "        text-align: right;\n",
       "    }\n",
       "</style>\n",
       "<table border=\"1\" class=\"dataframe\">\n",
       "  <thead>\n",
       "    <tr style=\"text-align: right;\">\n",
       "      <th></th>\n",
       "      <th>hero_names</th>\n",
       "      <th>Agility</th>\n",
       "      <th>Accelerated Healing</th>\n",
       "      <th>Lantern Power Ring</th>\n",
       "      <th>Dimensional Awareness</th>\n",
       "      <th>Cold Resistance</th>\n",
       "      <th>Durability</th>\n",
       "      <th>Stealth</th>\n",
       "      <th>Energy Absorption</th>\n",
       "      <th>Flight</th>\n",
       "      <th>...</th>\n",
       "      <th>Web Creation</th>\n",
       "      <th>Reality Warping</th>\n",
       "      <th>Odin Force</th>\n",
       "      <th>Symbiote Costume</th>\n",
       "      <th>Speed Force</th>\n",
       "      <th>Phoenix Force</th>\n",
       "      <th>Molecular Dissipation</th>\n",
       "      <th>Vision - Cryo</th>\n",
       "      <th>Omnipresent</th>\n",
       "      <th>Omniscient</th>\n",
       "    </tr>\n",
       "  </thead>\n",
       "  <tbody>\n",
       "    <tr>\n",
       "      <th>0</th>\n",
       "      <td>3-D Man</td>\n",
       "      <td>True</td>\n",
       "      <td>False</td>\n",
       "      <td>False</td>\n",
       "      <td>False</td>\n",
       "      <td>False</td>\n",
       "      <td>False</td>\n",
       "      <td>False</td>\n",
       "      <td>False</td>\n",
       "      <td>False</td>\n",
       "      <td>...</td>\n",
       "      <td>False</td>\n",
       "      <td>False</td>\n",
       "      <td>False</td>\n",
       "      <td>False</td>\n",
       "      <td>False</td>\n",
       "      <td>False</td>\n",
       "      <td>False</td>\n",
       "      <td>False</td>\n",
       "      <td>False</td>\n",
       "      <td>False</td>\n",
       "    </tr>\n",
       "    <tr>\n",
       "      <th>1</th>\n",
       "      <td>A-Bomb</td>\n",
       "      <td>False</td>\n",
       "      <td>True</td>\n",
       "      <td>False</td>\n",
       "      <td>False</td>\n",
       "      <td>False</td>\n",
       "      <td>True</td>\n",
       "      <td>False</td>\n",
       "      <td>False</td>\n",
       "      <td>False</td>\n",
       "      <td>...</td>\n",
       "      <td>False</td>\n",
       "      <td>False</td>\n",
       "      <td>False</td>\n",
       "      <td>False</td>\n",
       "      <td>False</td>\n",
       "      <td>False</td>\n",
       "      <td>False</td>\n",
       "      <td>False</td>\n",
       "      <td>False</td>\n",
       "      <td>False</td>\n",
       "    </tr>\n",
       "    <tr>\n",
       "      <th>2</th>\n",
       "      <td>Abe Sapien</td>\n",
       "      <td>True</td>\n",
       "      <td>True</td>\n",
       "      <td>False</td>\n",
       "      <td>False</td>\n",
       "      <td>True</td>\n",
       "      <td>True</td>\n",
       "      <td>False</td>\n",
       "      <td>False</td>\n",
       "      <td>False</td>\n",
       "      <td>...</td>\n",
       "      <td>False</td>\n",
       "      <td>False</td>\n",
       "      <td>False</td>\n",
       "      <td>False</td>\n",
       "      <td>False</td>\n",
       "      <td>False</td>\n",
       "      <td>False</td>\n",
       "      <td>False</td>\n",
       "      <td>False</td>\n",
       "      <td>False</td>\n",
       "    </tr>\n",
       "    <tr>\n",
       "      <th>3</th>\n",
       "      <td>Abin Sur</td>\n",
       "      <td>False</td>\n",
       "      <td>False</td>\n",
       "      <td>True</td>\n",
       "      <td>False</td>\n",
       "      <td>False</td>\n",
       "      <td>False</td>\n",
       "      <td>False</td>\n",
       "      <td>False</td>\n",
       "      <td>False</td>\n",
       "      <td>...</td>\n",
       "      <td>False</td>\n",
       "      <td>False</td>\n",
       "      <td>False</td>\n",
       "      <td>False</td>\n",
       "      <td>False</td>\n",
       "      <td>False</td>\n",
       "      <td>False</td>\n",
       "      <td>False</td>\n",
       "      <td>False</td>\n",
       "      <td>False</td>\n",
       "    </tr>\n",
       "    <tr>\n",
       "      <th>4</th>\n",
       "      <td>Abomination</td>\n",
       "      <td>False</td>\n",
       "      <td>True</td>\n",
       "      <td>False</td>\n",
       "      <td>False</td>\n",
       "      <td>False</td>\n",
       "      <td>False</td>\n",
       "      <td>False</td>\n",
       "      <td>False</td>\n",
       "      <td>False</td>\n",
       "      <td>...</td>\n",
       "      <td>False</td>\n",
       "      <td>False</td>\n",
       "      <td>False</td>\n",
       "      <td>False</td>\n",
       "      <td>False</td>\n",
       "      <td>False</td>\n",
       "      <td>False</td>\n",
       "      <td>False</td>\n",
       "      <td>False</td>\n",
       "      <td>False</td>\n",
       "    </tr>\n",
       "  </tbody>\n",
       "</table>\n",
       "<p>5 rows × 168 columns</p>\n",
       "</div>"
      ],
      "text/plain": [
       "    hero_names  Agility  Accelerated Healing  Lantern Power Ring  \\\n",
       "0      3-D Man     True                False               False   \n",
       "1       A-Bomb    False                 True               False   \n",
       "2   Abe Sapien     True                 True               False   \n",
       "3     Abin Sur    False                False                True   \n",
       "4  Abomination    False                 True               False   \n",
       "\n",
       "   Dimensional Awareness  Cold Resistance  Durability  Stealth  \\\n",
       "0                  False            False       False    False   \n",
       "1                  False            False        True    False   \n",
       "2                  False             True        True    False   \n",
       "3                  False            False       False    False   \n",
       "4                  False            False       False    False   \n",
       "\n",
       "   Energy Absorption  Flight  ...  Web Creation  Reality Warping  Odin Force  \\\n",
       "0              False   False  ...         False            False       False   \n",
       "1              False   False  ...         False            False       False   \n",
       "2              False   False  ...         False            False       False   \n",
       "3              False   False  ...         False            False       False   \n",
       "4              False   False  ...         False            False       False   \n",
       "\n",
       "   Symbiote Costume  Speed Force  Phoenix Force  Molecular Dissipation  \\\n",
       "0             False        False          False                  False   \n",
       "1             False        False          False                  False   \n",
       "2             False        False          False                  False   \n",
       "3             False        False          False                  False   \n",
       "4             False        False          False                  False   \n",
       "\n",
       "   Vision - Cryo  Omnipresent  Omniscient  \n",
       "0          False        False       False  \n",
       "1          False        False       False  \n",
       "2          False        False       False  \n",
       "3          False        False       False  \n",
       "4          False        False       False  \n",
       "\n",
       "[5 rows x 168 columns]"
      ]
     },
     "execution_count": 4,
     "metadata": {},
     "output_type": "execute_result"
    }
   ],
   "source": [
    "powers_df.head()"
   ]
  },
  {
   "cell_type": "markdown",
   "metadata": {},
   "source": [
    "It looks as if the heroes information dataset contained an index column.  We did not specify that this dataset contained an index column, because we hadn't seen it yet. Pandas does not know how to tell apart an index column from any other data, so it stored it with the column name `Unnamed: 0`.  \n",
    "\n",
    "Our DataFrame provided row indices by default, so this column is not needed.  Drop it from the DataFrame in place in the cell below, and then display the head of `heroes_df` to ensure that it worked properly. "
   ]
  },
  {
   "cell_type": "code",
   "execution_count": 5,
   "metadata": {},
   "outputs": [
    {
     "data": {
      "text/html": [
       "<div>\n",
       "<style scoped>\n",
       "    .dataframe tbody tr th:only-of-type {\n",
       "        vertical-align: middle;\n",
       "    }\n",
       "\n",
       "    .dataframe tbody tr th {\n",
       "        vertical-align: top;\n",
       "    }\n",
       "\n",
       "    .dataframe thead th {\n",
       "        text-align: right;\n",
       "    }\n",
       "</style>\n",
       "<table border=\"1\" class=\"dataframe\">\n",
       "  <thead>\n",
       "    <tr style=\"text-align: right;\">\n",
       "      <th></th>\n",
       "      <th>name</th>\n",
       "      <th>Gender</th>\n",
       "      <th>Eye color</th>\n",
       "      <th>Race</th>\n",
       "      <th>Hair color</th>\n",
       "      <th>Height</th>\n",
       "      <th>Publisher</th>\n",
       "      <th>Skin color</th>\n",
       "      <th>Alignment</th>\n",
       "      <th>Weight</th>\n",
       "    </tr>\n",
       "  </thead>\n",
       "  <tbody>\n",
       "    <tr>\n",
       "      <th>0</th>\n",
       "      <td>A-Bomb</td>\n",
       "      <td>Male</td>\n",
       "      <td>yellow</td>\n",
       "      <td>Human</td>\n",
       "      <td>No Hair</td>\n",
       "      <td>203.0</td>\n",
       "      <td>Marvel Comics</td>\n",
       "      <td>-</td>\n",
       "      <td>good</td>\n",
       "      <td>441.0</td>\n",
       "    </tr>\n",
       "    <tr>\n",
       "      <th>1</th>\n",
       "      <td>Abe Sapien</td>\n",
       "      <td>Male</td>\n",
       "      <td>blue</td>\n",
       "      <td>Icthyo Sapien</td>\n",
       "      <td>No Hair</td>\n",
       "      <td>191.0</td>\n",
       "      <td>Dark Horse Comics</td>\n",
       "      <td>blue</td>\n",
       "      <td>good</td>\n",
       "      <td>65.0</td>\n",
       "    </tr>\n",
       "    <tr>\n",
       "      <th>2</th>\n",
       "      <td>Abin Sur</td>\n",
       "      <td>Male</td>\n",
       "      <td>blue</td>\n",
       "      <td>Ungaran</td>\n",
       "      <td>No Hair</td>\n",
       "      <td>185.0</td>\n",
       "      <td>DC Comics</td>\n",
       "      <td>red</td>\n",
       "      <td>good</td>\n",
       "      <td>90.0</td>\n",
       "    </tr>\n",
       "    <tr>\n",
       "      <th>3</th>\n",
       "      <td>Abomination</td>\n",
       "      <td>Male</td>\n",
       "      <td>green</td>\n",
       "      <td>Human / Radiation</td>\n",
       "      <td>No Hair</td>\n",
       "      <td>203.0</td>\n",
       "      <td>Marvel Comics</td>\n",
       "      <td>-</td>\n",
       "      <td>bad</td>\n",
       "      <td>441.0</td>\n",
       "    </tr>\n",
       "    <tr>\n",
       "      <th>4</th>\n",
       "      <td>Abraxas</td>\n",
       "      <td>Male</td>\n",
       "      <td>blue</td>\n",
       "      <td>Cosmic Entity</td>\n",
       "      <td>Black</td>\n",
       "      <td>-99.0</td>\n",
       "      <td>Marvel Comics</td>\n",
       "      <td>-</td>\n",
       "      <td>bad</td>\n",
       "      <td>-99.0</td>\n",
       "    </tr>\n",
       "  </tbody>\n",
       "</table>\n",
       "</div>"
      ],
      "text/plain": [
       "          name Gender Eye color               Race Hair color  Height  \\\n",
       "0       A-Bomb   Male    yellow              Human    No Hair   203.0   \n",
       "1   Abe Sapien   Male      blue      Icthyo Sapien    No Hair   191.0   \n",
       "2     Abin Sur   Male      blue            Ungaran    No Hair   185.0   \n",
       "3  Abomination   Male     green  Human / Radiation    No Hair   203.0   \n",
       "4      Abraxas   Male      blue      Cosmic Entity      Black   -99.0   \n",
       "\n",
       "           Publisher Skin color Alignment  Weight  \n",
       "0      Marvel Comics          -      good   441.0  \n",
       "1  Dark Horse Comics       blue      good    65.0  \n",
       "2          DC Comics        red      good    90.0  \n",
       "3      Marvel Comics          -       bad   441.0  \n",
       "4      Marvel Comics          -       bad   -99.0  "
      ]
     },
     "execution_count": 5,
     "metadata": {},
     "output_type": "execute_result"
    }
   ],
   "source": [
    "heroes_df.drop('Unnamed: 0', axis =1, inplace = True)\n",
    "heroes_df.head()"
   ]
  },
  {
   "cell_type": "markdown",
   "metadata": {},
   "source": [
    "## Familiarize yourself with the dataset\n",
    "\n",
    "The first step in our Exploratory Data Analysis will be to get familiar with the data.  This step includes:\n",
    "\n",
    "* Understanding the dimensionality of your dataset\n",
    "* Investigating what type of data it contains, and the data types used to store it\n",
    "* Discovering how missing values are encoded, and how many there are\n",
    "* Getting a feel for what information it does and doesn't contain\n",
    "\n",
    "In the cell below, get the descriptive statistics of each DataFrame.  "
   ]
  },
  {
   "cell_type": "code",
   "execution_count": 6,
   "metadata": {},
   "outputs": [
    {
     "name": "stdout",
     "output_type": "stream",
     "text": [
      "<class 'pandas.core.frame.DataFrame'>\n",
      "RangeIndex: 734 entries, 0 to 733\n",
      "Data columns (total 10 columns):\n",
      " #   Column      Non-Null Count  Dtype  \n",
      "---  ------      --------------  -----  \n",
      " 0   name        734 non-null    object \n",
      " 1   Gender      734 non-null    object \n",
      " 2   Eye color   734 non-null    object \n",
      " 3   Race        734 non-null    object \n",
      " 4   Hair color  734 non-null    object \n",
      " 5   Height      734 non-null    float64\n",
      " 6   Publisher   719 non-null    object \n",
      " 7   Skin color  734 non-null    object \n",
      " 8   Alignment   734 non-null    object \n",
      " 9   Weight      732 non-null    float64\n",
      "dtypes: float64(2), object(8)\n",
      "memory usage: 57.5+ KB\n"
     ]
    }
   ],
   "source": [
    "heroes_df.info()"
   ]
  },
  {
   "cell_type": "code",
   "execution_count": 7,
   "metadata": {},
   "outputs": [
    {
     "data": {
      "text/plain": [
       "name           0\n",
       "Gender         0\n",
       "Eye color      0\n",
       "Race           0\n",
       "Hair color     0\n",
       "Height         0\n",
       "Publisher     15\n",
       "Skin color     0\n",
       "Alignment      0\n",
       "Weight         2\n",
       "dtype: int64"
      ]
     },
     "execution_count": 7,
     "metadata": {},
     "output_type": "execute_result"
    }
   ],
   "source": [
    "heroes_df.isna().sum()"
   ]
  },
  {
   "cell_type": "code",
   "execution_count": 8,
   "metadata": {},
   "outputs": [
    {
     "name": "stdout",
     "output_type": "stream",
     "text": [
      "Goliath       0.004087\n",
      "Spider-Man    0.004087\n",
      "Atlas         0.002725\n",
      "Name: name, dtype: float64\n",
      "\n",
      "\n",
      "Male      0.688011\n",
      "Female    0.272480\n",
      "-         0.039510\n",
      "Name: Gender, dtype: float64\n",
      "\n",
      "\n",
      "blue     0.306540\n",
      "-        0.234332\n",
      "brown    0.171662\n",
      "Name: Eye color, dtype: float64\n",
      "\n",
      "\n",
      "-         0.414169\n",
      "Human     0.283379\n",
      "Mutant    0.085831\n",
      "Name: Race, dtype: float64\n",
      "\n",
      "\n",
      "-        0.234332\n",
      "Black    0.215259\n",
      "Blond    0.134877\n",
      "Name: Hair color, dtype: float64\n",
      "\n",
      "\n",
      "-99.0     0.295640\n",
      " 183.0    0.080381\n",
      " 188.0    0.069482\n",
      "Name: Height, dtype: float64\n",
      "\n",
      "\n",
      "Marvel Comics    0.539638\n",
      "DC Comics        0.299026\n",
      "NBC - Heroes     0.026426\n",
      "Name: Publisher, dtype: float64\n",
      "\n",
      "\n",
      "-        0.901907\n",
      "green    0.028610\n",
      "red      0.012262\n",
      "Name: Skin color, dtype: float64\n",
      "\n",
      "\n",
      "good       0.675749\n",
      "bad        0.282016\n",
      "neutral    0.032698\n",
      "Name: Alignment, dtype: float64\n",
      "\n",
      "\n",
      "-99.0    0.323770\n",
      " 79.0    0.031421\n",
      " 54.0    0.031421\n",
      "Name: Weight, dtype: float64\n",
      "\n",
      "\n"
     ]
    }
   ],
   "source": [
    "for z in [heroes_df[x].value_counts(normalize = True).head(3) for x in heroes_df.columns]:\n",
    "    print(str(z)+'\\n\\n')"
   ]
  },
  {
   "cell_type": "code",
   "execution_count": 9,
   "metadata": {},
   "outputs": [
    {
     "name": "stdout",
     "output_type": "stream",
     "text": [
      "<class 'pandas.core.frame.DataFrame'>\n",
      "RangeIndex: 667 entries, 0 to 666\n",
      "Columns: 168 entries, hero_names to Omniscient\n",
      "dtypes: bool(167), object(1)\n",
      "memory usage: 114.1+ KB\n"
     ]
    }
   ],
   "source": [
    "powers_df.info()"
   ]
  },
  {
   "cell_type": "code",
   "execution_count": 10,
   "metadata": {},
   "outputs": [
    {
     "data": {
      "text/plain": [
       "Adam Monroe         1\n",
       "Living Tribunal     1\n",
       "Flash Gordon        1\n",
       "Parademon           1\n",
       "Kilowog             1\n",
       "                   ..\n",
       "Chamber             1\n",
       "Toxin               1\n",
       "Allan Quatermain    1\n",
       "Triton              1\n",
       "Mandarin            1\n",
       "Name: hero_names, Length: 667, dtype: int64"
      ]
     },
     "execution_count": 10,
     "metadata": {},
     "output_type": "execute_result"
    }
   ],
   "source": [
    "powers_df['hero_names'].value_counts(sort=True, ascending=False)"
   ]
  },
  {
   "cell_type": "markdown",
   "metadata": {},
   "source": [
    "## Dealing with missing values\n",
    "\n",
    "Starting in the cell below, detect and deal with any missing values in either DataFrame. Then, explain your methodology for detecting and dealing with outliers in the markdown section below. Be sure to explain your strategy for dealing with missing values in numeric columns, as well as your strategy for dealing with missing values in non-numeric columns.  \n",
    "\n",
    "Note that if you need to add more cells to write code in, you can do this by:\n",
    "\n",
    "**1.** Highlighting a cell and then pressing `ESC` to enter command mode.  \n",
    "**2.** Press `A` to add a cell above the highlighted cell, or `B` to add a cell below the highlighted cell. \n",
    "\n",
    "Describe your strategy below this line:\n",
    "____________________________________________________________________________________________________________________________\n",
    "\n",
    "\n"
   ]
  },
  {
   "cell_type": "markdown",
   "metadata": {},
   "source": [
    "## Cleaning Powers Data\n",
    "The powers dataframe seems to be complete and consist of boolian values with a string index. We set the index to `hero_names` below."
   ]
  },
  {
   "cell_type": "code",
   "execution_count": 11,
   "metadata": {},
   "outputs": [
    {
     "data": {
      "text/html": [
       "<div>\n",
       "<style scoped>\n",
       "    .dataframe tbody tr th:only-of-type {\n",
       "        vertical-align: middle;\n",
       "    }\n",
       "\n",
       "    .dataframe tbody tr th {\n",
       "        vertical-align: top;\n",
       "    }\n",
       "\n",
       "    .dataframe thead th {\n",
       "        text-align: right;\n",
       "    }\n",
       "</style>\n",
       "<table border=\"1\" class=\"dataframe\">\n",
       "  <thead>\n",
       "    <tr style=\"text-align: right;\">\n",
       "      <th></th>\n",
       "      <th>Agility</th>\n",
       "      <th>Accelerated Healing</th>\n",
       "      <th>Lantern Power Ring</th>\n",
       "      <th>Dimensional Awareness</th>\n",
       "      <th>Cold Resistance</th>\n",
       "      <th>Durability</th>\n",
       "      <th>Stealth</th>\n",
       "      <th>Energy Absorption</th>\n",
       "      <th>Flight</th>\n",
       "      <th>Danger Sense</th>\n",
       "      <th>...</th>\n",
       "      <th>Web Creation</th>\n",
       "      <th>Reality Warping</th>\n",
       "      <th>Odin Force</th>\n",
       "      <th>Symbiote Costume</th>\n",
       "      <th>Speed Force</th>\n",
       "      <th>Phoenix Force</th>\n",
       "      <th>Molecular Dissipation</th>\n",
       "      <th>Vision - Cryo</th>\n",
       "      <th>Omnipresent</th>\n",
       "      <th>Omniscient</th>\n",
       "    </tr>\n",
       "    <tr>\n",
       "      <th>hero_names</th>\n",
       "      <th></th>\n",
       "      <th></th>\n",
       "      <th></th>\n",
       "      <th></th>\n",
       "      <th></th>\n",
       "      <th></th>\n",
       "      <th></th>\n",
       "      <th></th>\n",
       "      <th></th>\n",
       "      <th></th>\n",
       "      <th></th>\n",
       "      <th></th>\n",
       "      <th></th>\n",
       "      <th></th>\n",
       "      <th></th>\n",
       "      <th></th>\n",
       "      <th></th>\n",
       "      <th></th>\n",
       "      <th></th>\n",
       "      <th></th>\n",
       "      <th></th>\n",
       "    </tr>\n",
       "  </thead>\n",
       "  <tbody>\n",
       "    <tr>\n",
       "      <th>3-D Man</th>\n",
       "      <td>True</td>\n",
       "      <td>False</td>\n",
       "      <td>False</td>\n",
       "      <td>False</td>\n",
       "      <td>False</td>\n",
       "      <td>False</td>\n",
       "      <td>False</td>\n",
       "      <td>False</td>\n",
       "      <td>False</td>\n",
       "      <td>False</td>\n",
       "      <td>...</td>\n",
       "      <td>False</td>\n",
       "      <td>False</td>\n",
       "      <td>False</td>\n",
       "      <td>False</td>\n",
       "      <td>False</td>\n",
       "      <td>False</td>\n",
       "      <td>False</td>\n",
       "      <td>False</td>\n",
       "      <td>False</td>\n",
       "      <td>False</td>\n",
       "    </tr>\n",
       "    <tr>\n",
       "      <th>A-Bomb</th>\n",
       "      <td>False</td>\n",
       "      <td>True</td>\n",
       "      <td>False</td>\n",
       "      <td>False</td>\n",
       "      <td>False</td>\n",
       "      <td>True</td>\n",
       "      <td>False</td>\n",
       "      <td>False</td>\n",
       "      <td>False</td>\n",
       "      <td>False</td>\n",
       "      <td>...</td>\n",
       "      <td>False</td>\n",
       "      <td>False</td>\n",
       "      <td>False</td>\n",
       "      <td>False</td>\n",
       "      <td>False</td>\n",
       "      <td>False</td>\n",
       "      <td>False</td>\n",
       "      <td>False</td>\n",
       "      <td>False</td>\n",
       "      <td>False</td>\n",
       "    </tr>\n",
       "    <tr>\n",
       "      <th>Abe Sapien</th>\n",
       "      <td>True</td>\n",
       "      <td>True</td>\n",
       "      <td>False</td>\n",
       "      <td>False</td>\n",
       "      <td>True</td>\n",
       "      <td>True</td>\n",
       "      <td>False</td>\n",
       "      <td>False</td>\n",
       "      <td>False</td>\n",
       "      <td>False</td>\n",
       "      <td>...</td>\n",
       "      <td>False</td>\n",
       "      <td>False</td>\n",
       "      <td>False</td>\n",
       "      <td>False</td>\n",
       "      <td>False</td>\n",
       "      <td>False</td>\n",
       "      <td>False</td>\n",
       "      <td>False</td>\n",
       "      <td>False</td>\n",
       "      <td>False</td>\n",
       "    </tr>\n",
       "    <tr>\n",
       "      <th>Abin Sur</th>\n",
       "      <td>False</td>\n",
       "      <td>False</td>\n",
       "      <td>True</td>\n",
       "      <td>False</td>\n",
       "      <td>False</td>\n",
       "      <td>False</td>\n",
       "      <td>False</td>\n",
       "      <td>False</td>\n",
       "      <td>False</td>\n",
       "      <td>False</td>\n",
       "      <td>...</td>\n",
       "      <td>False</td>\n",
       "      <td>False</td>\n",
       "      <td>False</td>\n",
       "      <td>False</td>\n",
       "      <td>False</td>\n",
       "      <td>False</td>\n",
       "      <td>False</td>\n",
       "      <td>False</td>\n",
       "      <td>False</td>\n",
       "      <td>False</td>\n",
       "    </tr>\n",
       "    <tr>\n",
       "      <th>Abomination</th>\n",
       "      <td>False</td>\n",
       "      <td>True</td>\n",
       "      <td>False</td>\n",
       "      <td>False</td>\n",
       "      <td>False</td>\n",
       "      <td>False</td>\n",
       "      <td>False</td>\n",
       "      <td>False</td>\n",
       "      <td>False</td>\n",
       "      <td>False</td>\n",
       "      <td>...</td>\n",
       "      <td>False</td>\n",
       "      <td>False</td>\n",
       "      <td>False</td>\n",
       "      <td>False</td>\n",
       "      <td>False</td>\n",
       "      <td>False</td>\n",
       "      <td>False</td>\n",
       "      <td>False</td>\n",
       "      <td>False</td>\n",
       "      <td>False</td>\n",
       "    </tr>\n",
       "  </tbody>\n",
       "</table>\n",
       "<p>5 rows × 167 columns</p>\n",
       "</div>"
      ],
      "text/plain": [
       "             Agility  Accelerated Healing  Lantern Power Ring  \\\n",
       "hero_names                                                      \n",
       "3-D Man         True                False               False   \n",
       "A-Bomb         False                 True               False   \n",
       "Abe Sapien      True                 True               False   \n",
       "Abin Sur       False                False                True   \n",
       "Abomination    False                 True               False   \n",
       "\n",
       "             Dimensional Awareness  Cold Resistance  Durability  Stealth  \\\n",
       "hero_names                                                                 \n",
       "3-D Man                      False            False       False    False   \n",
       "A-Bomb                       False            False        True    False   \n",
       "Abe Sapien                   False             True        True    False   \n",
       "Abin Sur                     False            False       False    False   \n",
       "Abomination                  False            False       False    False   \n",
       "\n",
       "             Energy Absorption  Flight  Danger Sense  ...  Web Creation  \\\n",
       "hero_names                                            ...                 \n",
       "3-D Man                  False   False         False  ...         False   \n",
       "A-Bomb                   False   False         False  ...         False   \n",
       "Abe Sapien               False   False         False  ...         False   \n",
       "Abin Sur                 False   False         False  ...         False   \n",
       "Abomination              False   False         False  ...         False   \n",
       "\n",
       "             Reality Warping  Odin Force  Symbiote Costume  Speed Force  \\\n",
       "hero_names                                                                \n",
       "3-D Man                False       False             False        False   \n",
       "A-Bomb                 False       False             False        False   \n",
       "Abe Sapien             False       False             False        False   \n",
       "Abin Sur               False       False             False        False   \n",
       "Abomination            False       False             False        False   \n",
       "\n",
       "             Phoenix Force  Molecular Dissipation  Vision - Cryo  Omnipresent  \\\n",
       "hero_names                                                                      \n",
       "3-D Man              False                  False          False        False   \n",
       "A-Bomb               False                  False          False        False   \n",
       "Abe Sapien           False                  False          False        False   \n",
       "Abin Sur             False                  False          False        False   \n",
       "Abomination          False                  False          False        False   \n",
       "\n",
       "             Omniscient  \n",
       "hero_names               \n",
       "3-D Man           False  \n",
       "A-Bomb            False  \n",
       "Abe Sapien        False  \n",
       "Abin Sur          False  \n",
       "Abomination       False  \n",
       "\n",
       "[5 rows x 167 columns]"
      ]
     },
     "execution_count": 11,
     "metadata": {},
     "output_type": "execute_result"
    }
   ],
   "source": [
    "powers_df.set_index('hero_names', inplace=True)\n",
    "powers_df.head()"
   ]
  },
  {
   "cell_type": "markdown",
   "metadata": {},
   "source": [
    "## Cleaning Heroes Data\n",
    "There seems to be a mixture of missing values dummy values used to indicate that data is missing in this dataframe. Below we treat each variable separately. "
   ]
  },
  {
   "cell_type": "code",
   "execution_count": 12,
   "metadata": {},
   "outputs": [
    {
     "name": "stdout",
     "output_type": "stream",
     "text": [
      "name\n",
      "Gender\n",
      "Eye color\n",
      "Race\n",
      "Hair color\n",
      "Height\n",
      "Publisher\n",
      "Skin color\n",
      "Alignment\n",
      "Weight\n"
     ]
    }
   ],
   "source": [
    "for name in heroes_df.columns:\n",
    "    print(name)"
   ]
  },
  {
   "cell_type": "markdown",
   "metadata": {},
   "source": [
    "### Name\n",
    "First, we note that there are no missing values in the names column."
   ]
  },
  {
   "cell_type": "code",
   "execution_count": 13,
   "metadata": {},
   "outputs": [
    {
     "data": {
      "text/plain": [
       "False"
      ]
     },
     "execution_count": 13,
     "metadata": {},
     "output_type": "execute_result"
    }
   ],
   "source": [
    "heroes_df['name'].isna().max()"
   ]
  },
  {
   "cell_type": "markdown",
   "metadata": {},
   "source": [
    "Second, note that there are duplicate values."
   ]
  },
  {
   "cell_type": "code",
   "execution_count": 14,
   "metadata": {},
   "outputs": [
    {
     "data": {
      "text/plain": [
       "True"
      ]
     },
     "execution_count": 14,
     "metadata": {},
     "output_type": "execute_result"
    }
   ],
   "source": [
    "heroes_df['name'].duplicated().max()"
   ]
  },
  {
   "cell_type": "markdown",
   "metadata": {},
   "source": [
    "Third, by inspection there do not seem to be any dummy values for missing data."
   ]
  },
  {
   "cell_type": "code",
   "execution_count": 15,
   "metadata": {},
   "outputs": [
    {
     "name": "stdout",
     "output_type": "stream",
     "text": [
      "A-Bomb\n",
      "Abe Sapien\n",
      "Abin Sur\n",
      "Abomination\n",
      "Abraxas\n",
      "Absorbing Man\n",
      "Adam Monroe\n",
      "Adam Strange\n",
      "Agent 13\n",
      "Agent Bob\n",
      "Agent Zero\n",
      "Air-Walker\n",
      "Ajax\n",
      "Alan Scott\n",
      "Alex Mercer\n",
      "Alex Woolsly\n",
      "Alfred Pennyworth\n",
      "Alien\n",
      "Allan Quatermain\n",
      "Amazo\n",
      "Ammo\n",
      "Ando Masahashi\n",
      "Angel\n",
      "Angel Dust\n",
      "Angel Salvadore\n",
      "Angela\n",
      "Animal Man\n",
      "Annihilus\n",
      "Ant-Man\n",
      "Ant-Man II\n",
      "Anti-Monitor\n",
      "Anti-Spawn\n",
      "Anti-Venom\n",
      "Apocalypse\n",
      "Aquababy\n",
      "Aqualad\n",
      "Aquaman\n",
      "Arachne\n",
      "Archangel\n",
      "Arclight\n",
      "Ardina\n",
      "Ares\n",
      "Ariel\n",
      "Armor\n",
      "Arsenal\n",
      "Astro Boy\n",
      "Atlas\n",
      "Atom\n",
      "Atom Girl\n",
      "Atom II\n",
      "Atom III\n",
      "Atom IV\n",
      "Aurora\n",
      "Azazel\n",
      "Azrael\n",
      "Aztar\n",
      "Bane\n",
      "Banshee\n",
      "Bantam\n",
      "Batgirl\n",
      "Batgirl III\n",
      "Batgirl IV\n",
      "Batgirl V\n",
      "Batgirl VI\n",
      "Batman\n",
      "Batman II\n",
      "Battlestar\n",
      "Batwoman V\n",
      "Beak\n",
      "Beast\n",
      "Beast Boy\n",
      "Beetle\n",
      "Ben 10\n",
      "Beta Ray Bill\n",
      "Beyonder\n",
      "Big Barda\n",
      "Big Daddy\n",
      "Big Man\n",
      "Bill Harken\n",
      "Billy Kincaid\n",
      "Binary\n",
      "Bionic Woman\n",
      "Bird-Brain\n",
      "Bird-Man\n",
      "Bird-Man II\n",
      "Birdman\n",
      "Bishop\n",
      "Bizarro\n",
      "Black Abbott\n",
      "Black Adam\n",
      "Black Bolt\n",
      "Black Canary\n",
      "Black Cat\n",
      "Black Flash\n",
      "Black Goliath\n",
      "Black Knight III\n",
      "Black Lightning\n",
      "Black Mamba\n",
      "Black Manta\n",
      "Black Panther\n",
      "Black Widow\n",
      "Black Widow II\n",
      "Blackout\n",
      "Blackwing\n",
      "Blackwulf\n",
      "Blade\n",
      "Blaquesmith\n",
      "Bling!\n",
      "Blink\n",
      "Blizzard\n",
      "Blizzard II\n",
      "Blob\n",
      "Bloodaxe\n",
      "Bloodhawk\n",
      "Bloodwraith\n",
      "Blue Beetle\n",
      "Blue Beetle II\n",
      "Blue Beetle III\n",
      "Boba Fett\n",
      "Bolt\n",
      "Bomb Queen\n",
      "Boom-Boom\n",
      "Boomer\n",
      "Booster Gold\n",
      "Box\n",
      "Box III\n",
      "Box IV\n",
      "Brainiac\n",
      "Brainiac 5\n",
      "Brother Voodoo\n",
      "Brundlefly\n",
      "Buffy\n",
      "Bullseye\n",
      "Bumblebee\n",
      "Bumbleboy\n",
      "Bushido\n",
      "Cable\n",
      "Callisto\n",
      "Cameron Hicks\n",
      "Cannonball\n",
      "Captain America\n",
      "Captain Atom\n",
      "Captain Britain\n",
      "Captain Cold\n",
      "Captain Epic\n",
      "Captain Hindsight\n",
      "Captain Mar-vell\n",
      "Captain Marvel\n",
      "Captain Marvel II\n",
      "Captain Midnight\n",
      "Captain Planet\n",
      "Captain Universe\n",
      "Carnage\n",
      "Cat\n",
      "Cat II\n",
      "Catwoman\n",
      "Cecilia Reyes\n",
      "Century\n",
      "Cerebra\n",
      "Chamber\n",
      "Chameleon\n",
      "Changeling\n",
      "Cheetah\n",
      "Cheetah II\n",
      "Cheetah III\n",
      "Chromos\n",
      "Chuck Norris\n",
      "Citizen Steel\n",
      "Claire Bennet\n",
      "Clea\n",
      "Cloak\n",
      "Clock King\n",
      "Cogliostro\n",
      "Colin Wagner\n",
      "Colossal Boy\n",
      "Colossus\n",
      "Copycat\n",
      "Corsair\n",
      "Cottonmouth\n",
      "Crimson Crusader\n",
      "Crimson Dynamo\n",
      "Crystal\n",
      "Curse\n",
      "Cy-Gor\n",
      "Cyborg\n",
      "Cyborg Superman\n",
      "Cyclops\n",
      "Cypher\n",
      "Dagger\n",
      "Danny Cooper\n",
      "Daphne Powell\n",
      "Daredevil\n",
      "Darkhawk\n",
      "Darkman\n",
      "Darkseid\n",
      "Darkside\n",
      "Darkstar\n",
      "Darth Maul\n",
      "Darth Vader\n",
      "Dash\n",
      "Data\n",
      "Dazzler\n",
      "Deadman\n",
      "Deadpool\n",
      "Deadshot\n",
      "Deathlok\n",
      "Deathstroke\n",
      "Demogoblin\n",
      "Destroyer\n",
      "Diamondback\n",
      "DL Hawkins\n",
      "Doc Samson\n",
      "Doctor Doom\n",
      "Doctor Doom II\n",
      "Doctor Fate\n",
      "Doctor Octopus\n",
      "Doctor Strange\n",
      "Domino\n",
      "Donatello\n",
      "Donna Troy\n",
      "Doomsday\n",
      "Doppelganger\n",
      "Dormammu\n",
      "Dr Manhattan\n",
      "Drax the Destroyer\n",
      "Ego\n",
      "Elastigirl\n",
      "Electro\n",
      "Elektra\n",
      "Elle Bishop\n",
      "Elongated Man\n",
      "Emma Frost\n",
      "Enchantress\n",
      "Energy\n",
      "ERG-1\n",
      "Ethan Hunt\n",
      "Etrigan\n",
      "Evil Deadpool\n",
      "Evilhawk\n",
      "Exodus\n",
      "Fabian Cortez\n",
      "Falcon\n",
      "Fallen One II\n",
      "Faora\n",
      "Feral\n",
      "Fighting Spirit\n",
      "Fin Fang Foom\n",
      "Firebird\n",
      "Firelord\n",
      "Firestar\n",
      "Firestorm\n",
      "Fixer\n",
      "Flash\n",
      "Flash Gordon\n",
      "Flash II\n",
      "Flash III\n",
      "Flash IV\n",
      "Forge\n",
      "Franklin Richards\n",
      "Franklin Storm\n",
      "Frenzy\n",
      "Frigga\n",
      "Galactus\n",
      "Gambit\n",
      "Gamora\n",
      "Garbage Man\n",
      "Gary Bell\n",
      "General Zod\n",
      "Genesis\n",
      "Ghost Rider\n",
      "Ghost Rider II\n",
      "Giant-Man\n",
      "Giant-Man II\n",
      "Giganta\n",
      "Gladiator\n",
      "Goblin Queen\n",
      "Godzilla\n",
      "Gog\n",
      "Goku\n",
      "Goliath\n",
      "Goliath IV\n",
      "Gorilla Grodd\n",
      "Granny Goodness\n",
      "Gravity\n",
      "Greedo\n",
      "Green Arrow\n",
      "Green Goblin\n",
      "Green Goblin II\n",
      "Green Goblin III\n",
      "Green Goblin IV\n",
      "Groot\n",
      "Guardian\n",
      "Guy Gardner\n",
      "Hal Jordan\n",
      "Han Solo\n",
      "Hancock\n",
      "Harley Quinn\n",
      "Harry Potter\n",
      "Havok\n",
      "Hawk\n",
      "Hawkeye\n",
      "Hawkeye II\n",
      "Hawkgirl\n",
      "Hawkman\n",
      "Hawkwoman\n",
      "Hawkwoman II\n",
      "Hawkwoman III\n",
      "Heat Wave\n",
      "Hela\n",
      "Hellboy\n",
      "Hellcat\n",
      "Hellstorm\n",
      "Hercules\n",
      "Hiro Nakamura\n",
      "Hit-Girl\n",
      "Hobgoblin\n",
      "Hollow\n",
      "Hope Summers\n",
      "Howard the Duck\n",
      "Hulk\n",
      "Human Torch\n",
      "Huntress\n",
      "Husk\n",
      "Hybrid\n",
      "Hydro-Man\n",
      "Hyperion\n",
      "Iceman\n",
      "Impulse\n",
      "Indiana Jones\n",
      "Indigo\n",
      "Ink\n",
      "Invisible Woman\n",
      "Iron Fist\n",
      "Iron Man\n",
      "Iron Monger\n",
      "Isis\n",
      "Jack Bauer\n",
      "Jack of Hearts\n",
      "Jack-Jack\n",
      "James Bond\n",
      "James T. Kirk\n",
      "Jar Jar Binks\n",
      "Jason Bourne\n",
      "Jean Grey\n",
      "Jean-Luc Picard\n",
      "Jennifer Kale\n",
      "Jesse Quick\n",
      "Jessica Cruz\n",
      "Jessica Jones\n",
      "Jessica Sanders\n",
      "Jigsaw\n",
      "Jim Powell\n",
      "JJ Powell\n",
      "Johann Krauss\n",
      "John Constantine\n",
      "John Stewart\n",
      "John Wraith\n",
      "Joker\n",
      "Jolt\n",
      "Jubilee\n",
      "Judge Dredd\n",
      "Juggernaut\n",
      "Junkpile\n",
      "Justice\n",
      "Jyn Erso\n",
      "K-2SO\n",
      "Kang\n",
      "Karate Kid\n",
      "Kathryn Janeway\n",
      "Katniss Everdeen\n",
      "Kevin 11\n",
      "Kick-Ass\n",
      "Kid Flash\n",
      "Kid Flash II\n",
      "Killer Croc\n",
      "Killer Frost\n",
      "Kilowog\n",
      "King Kong\n",
      "King Shark\n",
      "Kingpin\n",
      "Klaw\n",
      "Kool-Aid Man\n",
      "Kraven II\n",
      "Kraven the Hunter\n",
      "Krypto\n",
      "Kyle Rayner\n",
      "Kylo Ren\n",
      "Lady Bullseye\n",
      "Lady Deathstrike\n",
      "Leader\n",
      "Leech\n",
      "Legion\n",
      "Leonardo\n",
      "Lex Luthor\n",
      "Light Lass\n",
      "Lightning Lad\n",
      "Lightning Lord\n",
      "Living Brain\n",
      "Living Tribunal\n",
      "Liz Sherman\n",
      "Lizard\n",
      "Lobo\n",
      "Loki\n",
      "Longshot\n",
      "Luke Cage\n",
      "Luke Campbell\n",
      "Luke Skywalker\n",
      "Luna\n",
      "Lyja\n",
      "Mach-IV\n",
      "Machine Man\n",
      "Magneto\n",
      "Magog\n",
      "Magus\n",
      "Man of Miracles\n",
      "Man-Bat\n",
      "Man-Thing\n",
      "Man-Wolf\n",
      "Mandarin\n",
      "Mantis\n",
      "Martian Manhunter\n",
      "Marvel Girl\n",
      "Master Brood\n",
      "Master Chief\n",
      "Match\n",
      "Matt Parkman\n",
      "Maverick\n",
      "Maxima\n",
      "Maya Herrera\n",
      "Medusa\n",
      "Meltdown\n",
      "Mephisto\n",
      "Mera\n",
      "Metallo\n",
      "Metamorpho\n",
      "Meteorite\n",
      "Metron\n",
      "Micah Sanders\n",
      "Michelangelo\n",
      "Micro Lad\n",
      "Mimic\n",
      "Minna Murray\n",
      "Misfit\n",
      "Miss Martian\n",
      "Mister Fantastic\n",
      "Mister Freeze\n",
      "Mister Knife\n",
      "Mister Mxyzptlk\n",
      "Mister Sinister\n",
      "Mister Zsasz\n",
      "Mockingbird\n",
      "MODOK\n",
      "Mogo\n",
      "Mohinder Suresh\n",
      "Moloch\n",
      "Molten Man\n",
      "Monarch\n",
      "Monica Dawson\n",
      "Moon Knight\n",
      "Moonstone\n",
      "Morlun\n",
      "Morph\n",
      "Moses Magnum\n",
      "Mr Immortal\n",
      "Mr Incredible\n",
      "Ms Marvel II\n",
      "Multiple Man\n",
      "Mysterio\n",
      "Mystique\n",
      "Namor\n",
      "Namora\n",
      "Namorita\n",
      "Naruto Uzumaki\n",
      "Nathan Petrelli\n",
      "Nebula\n",
      "Negasonic Teenage Warhead\n",
      "Nick Fury\n",
      "Nightcrawler\n",
      "Nightwing\n",
      "Niki Sanders\n",
      "Nina Theroux\n",
      "Nite Owl II\n",
      "Northstar\n",
      "Nova\n",
      "Odin\n",
      "Offspring\n",
      "Omega Red\n",
      "Omniscient\n",
      "One Punch Man\n",
      "One-Above-All\n",
      "Onslaught\n",
      "Oracle\n",
      "Osiris\n",
      "Overtkill\n",
      "Ozymandias\n",
      "Parademon\n",
      "Paul Blart\n",
      "Penance\n",
      "Penance I\n",
      "Penance II\n",
      "Penguin\n",
      "Peter Petrelli\n",
      "Phantom\n",
      "Phantom Girl\n",
      "Phoenix\n",
      "Plantman\n",
      "Plastic Lad\n",
      "Plastic Man\n",
      "Plastique\n",
      "Poison Ivy\n",
      "Polaris\n",
      "Power Girl\n",
      "Power Man\n",
      "Predator\n",
      "Professor X\n",
      "Professor Zoom\n",
      "Proto-Goblin\n",
      "Psylocke\n",
      "Punisher\n",
      "Purple Man\n",
      "Pyro\n",
      "Q\n",
      "Quantum\n",
      "Question\n",
      "Quicksilver\n",
      "Quill\n",
      "Ra's Al Ghul\n",
      "Rachel Pirzad\n",
      "Rambo\n",
      "Raphael\n",
      "Raven\n",
      "Ray\n",
      "Razor-Fist II\n",
      "Red Arrow\n",
      "Red Hood\n",
      "Red Hulk\n",
      "Red Mist\n",
      "Red Robin\n",
      "Red Skull\n",
      "Red Tornado\n",
      "Redeemer II\n",
      "Redeemer III\n",
      "Renata Soliz\n",
      "Rey\n",
      "Rhino\n",
      "Rick Flag\n",
      "Riddler\n",
      "Rip Hunter\n",
      "Ripcord\n",
      "Robin\n",
      "Robin II\n",
      "Robin III\n",
      "Robin V\n",
      "Robin VI\n",
      "Rocket Raccoon\n",
      "Rogue\n",
      "Ronin\n",
      "Rorschach\n",
      "Sabretooth\n",
      "Sage\n",
      "Sandman\n",
      "Sasquatch\n",
      "Sauron\n",
      "Savage Dragon\n",
      "Scarecrow\n",
      "Scarlet Spider\n",
      "Scarlet Spider II\n",
      "Scarlet Witch\n",
      "Scorpia\n",
      "Scorpion\n",
      "Sebastian Shaw\n",
      "Sentry\n",
      "Shadow King\n",
      "Shadow Lass\n",
      "Shadowcat\n",
      "Shang-Chi\n",
      "Shatterstar\n",
      "She-Hulk\n",
      "She-Thing\n",
      "Shocker\n",
      "Shriek\n",
      "Shrinking Violet\n",
      "Sif\n",
      "Silk\n",
      "Silk Spectre\n",
      "Silk Spectre II\n",
      "Silver Surfer\n",
      "Silverclaw\n",
      "Simon Baz\n",
      "Sinestro\n",
      "Siren\n",
      "Siren II\n",
      "Siryn\n",
      "Skaar\n",
      "Snake-Eyes\n",
      "Snowbird\n",
      "Sobek\n",
      "Solomon Grundy\n",
      "Songbird\n",
      "Space Ghost\n",
      "Spawn\n",
      "Spectre\n",
      "Speedball\n",
      "Speedy\n",
      "Spider-Carnage\n",
      "Spider-Girl\n",
      "Spider-Gwen\n",
      "Spider-Man\n",
      "Spider-Woman\n",
      "Spider-Woman II\n",
      "Spider-Woman III\n",
      "Spider-Woman IV\n",
      "Spock\n",
      "Spyke\n",
      "Stacy X\n",
      "Star-Lord\n",
      "Stardust\n",
      "Starfire\n",
      "Stargirl\n",
      "Static\n",
      "Steel\n",
      "Stephanie Powell\n",
      "Steppenwolf\n",
      "Storm\n",
      "Stormtrooper\n",
      "Sunspot\n",
      "Superboy\n",
      "Superboy-Prime\n",
      "Supergirl\n",
      "Superman\n",
      "Swamp Thing\n",
      "Swarm\n",
      "Sylar\n",
      "Synch\n",
      "T-1000\n",
      "T-800\n",
      "T-850\n",
      "T-X\n",
      "Taskmaster\n",
      "Tempest\n",
      "Thanos\n",
      "The Cape\n",
      "The Comedian\n",
      "Thing\n",
      "Thor\n",
      "Thor Girl\n",
      "Thunderbird\n",
      "Thunderbird II\n",
      "Thunderbird III\n",
      "Thunderstrike\n",
      "Thundra\n",
      "Tiger Shark\n",
      "Tigra\n",
      "Tinkerer\n",
      "Titan\n",
      "Toad\n",
      "Toxin\n",
      "Tracy Strauss\n",
      "Trickster\n",
      "Trigon\n",
      "Triplicate Girl\n",
      "Triton\n",
      "Two-Face\n",
      "Ultragirl\n",
      "Ultron\n",
      "Utgard-Loki\n",
      "Vagabond\n",
      "Valerie Hart\n",
      "Valkyrie\n",
      "Vanisher\n",
      "Vegeta\n",
      "Venom\n",
      "Venom II\n",
      "Venom III\n",
      "Venompool\n",
      "Vertigo II\n",
      "Vibe\n",
      "Vindicator\n",
      "Violator\n",
      "Violet Parr\n",
      "Vision\n",
      "Vision II\n",
      "Vixen\n",
      "Vulcan\n",
      "Vulture\n",
      "Walrus\n",
      "War Machine\n",
      "Warbird\n",
      "Warlock\n",
      "Warp\n",
      "Warpath\n",
      "Wasp\n",
      "Watcher\n",
      "Weapon XI\n",
      "White Canary\n",
      "White Queen\n",
      "Wildfire\n",
      "Winter Soldier\n",
      "Wiz Kid\n",
      "Wolfsbane\n",
      "Wolverine\n",
      "Wonder Girl\n",
      "Wonder Man\n",
      "Wonder Woman\n",
      "Wondra\n",
      "Wyatt Wingfoot\n",
      "X-23\n",
      "X-Man\n",
      "Yellow Claw\n",
      "Yellowjacket\n",
      "Yellowjacket II\n",
      "Ymir\n",
      "Yoda\n",
      "Zatanna\n",
      "Zoom\n"
     ]
    }
   ],
   "source": [
    "for name in heroes_df['name'].unique():\n",
    "    print(name)"
   ]
  },
  {
   "cell_type": "markdown",
   "metadata": {},
   "source": [
    "We conclude that no action is needed on this column."
   ]
  },
  {
   "cell_type": "markdown",
   "metadata": {},
   "source": [
    "### Gender\n",
    "First, we note that there are no missing values. "
   ]
  },
  {
   "cell_type": "code",
   "execution_count": 16,
   "metadata": {},
   "outputs": [
    {
     "data": {
      "text/plain": [
       "False"
      ]
     },
     "execution_count": 16,
     "metadata": {},
     "output_type": "execute_result"
    }
   ],
   "source": [
    "heroes_df['Gender'].isna().max()"
   ]
  },
  {
   "cell_type": "markdown",
   "metadata": {},
   "source": [
    "Second, we note that there are three unique values for the Gender variable."
   ]
  },
  {
   "cell_type": "code",
   "execution_count": 17,
   "metadata": {},
   "outputs": [
    {
     "name": "stdout",
     "output_type": "stream",
     "text": [
      "Male\n",
      "Female\n",
      "-\n"
     ]
    }
   ],
   "source": [
    "for value in heroes_df['Gender'].unique():\n",
    "    print(value)"
   ]
  },
  {
   "cell_type": "markdown",
   "metadata": {},
   "source": [
    "Third, the value `-` appears to be a dummy value indicating missing data. We replace `-` with `None Provided` below."
   ]
  },
  {
   "cell_type": "code",
   "execution_count": 18,
   "metadata": {},
   "outputs": [],
   "source": [
    "heroes_df['Gender'].replace('-', 'None Provided', inplace = True)"
   ]
  },
  {
   "cell_type": "markdown",
   "metadata": {},
   "source": [
    "We confirm that the changes were applied below."
   ]
  },
  {
   "cell_type": "code",
   "execution_count": 19,
   "metadata": {},
   "outputs": [
    {
     "name": "stdout",
     "output_type": "stream",
     "text": [
      "Male\n",
      "Female\n",
      "None Provided\n"
     ]
    }
   ],
   "source": [
    "for value in heroes_df['Gender'].unique():\n",
    "    print(value)"
   ]
  },
  {
   "cell_type": "markdown",
   "metadata": {},
   "source": [
    "### Eye Color\n",
    "First, we note that there are no missing values. "
   ]
  },
  {
   "cell_type": "code",
   "execution_count": 20,
   "metadata": {},
   "outputs": [
    {
     "data": {
      "text/plain": [
       "False"
      ]
     },
     "execution_count": 20,
     "metadata": {},
     "output_type": "execute_result"
    }
   ],
   "source": [
    "heroes_df['Eye color'].isna().max()"
   ]
  },
  {
   "cell_type": "markdown",
   "metadata": {},
   "source": [
    "Second, we note that there are twenty three unique values for the `Eye color` variable."
   ]
  },
  {
   "cell_type": "code",
   "execution_count": 21,
   "metadata": {},
   "outputs": [
    {
     "name": "stdout",
     "output_type": "stream",
     "text": [
      "1. yellow\n",
      "2. blue\n",
      "3. green\n",
      "4. brown\n",
      "5. -\n",
      "6. red\n",
      "7. violet\n",
      "8. white\n",
      "9. purple\n",
      "10. black\n",
      "11. grey\n",
      "12. silver\n",
      "13. yellow / red\n",
      "14. yellow (without irises)\n",
      "15. gold\n",
      "16. blue / white\n",
      "17. hazel\n",
      "18. green / blue\n",
      "19. white / red\n",
      "20. indigo\n",
      "21. amber\n",
      "22. yellow / blue\n",
      "23. bown\n"
     ]
    }
   ],
   "source": [
    "index = 0\n",
    "for value in heroes_df['Eye color'].unique():\n",
    "    index +=1\n",
    "    print(str(index)+'. '+value)"
   ]
  },
  {
   "cell_type": "markdown",
   "metadata": {},
   "source": [
    "Third, the value `-` appears to be a dummy value indicating missing data. We replace `-` with `None Provided` below."
   ]
  },
  {
   "cell_type": "code",
   "execution_count": 22,
   "metadata": {},
   "outputs": [],
   "source": [
    "heroes_df['Eye color'].replace('-', 'None Provided', inplace = True)"
   ]
  },
  {
   "cell_type": "markdown",
   "metadata": {},
   "source": [
    "We confirm that the changes were applied below."
   ]
  },
  {
   "cell_type": "code",
   "execution_count": 23,
   "metadata": {
    "scrolled": true
   },
   "outputs": [
    {
     "name": "stdout",
     "output_type": "stream",
     "text": [
      "1. yellow\n",
      "2. blue\n",
      "3. green\n",
      "4. brown\n",
      "5. None Provided\n",
      "6. red\n",
      "7. violet\n",
      "8. white\n",
      "9. purple\n",
      "10. black\n",
      "11. grey\n",
      "12. silver\n",
      "13. yellow / red\n",
      "14. yellow (without irises)\n",
      "15. gold\n",
      "16. blue / white\n",
      "17. hazel\n",
      "18. green / blue\n",
      "19. white / red\n",
      "20. indigo\n",
      "21. amber\n",
      "22. yellow / blue\n",
      "23. bown\n"
     ]
    }
   ],
   "source": [
    "index = 0\n",
    "for value in heroes_df['Eye color'].unique():\n",
    "    index +=1\n",
    "    print(str(index)+'. '+value)"
   ]
  },
  {
   "cell_type": "markdown",
   "metadata": {},
   "source": [
    "### Race\n",
    "First, we note that there are no missing values. "
   ]
  },
  {
   "cell_type": "code",
   "execution_count": 24,
   "metadata": {},
   "outputs": [
    {
     "data": {
      "text/plain": [
       "False"
      ]
     },
     "execution_count": 24,
     "metadata": {},
     "output_type": "execute_result"
    }
   ],
   "source": [
    "heroes_df['Race'].isna().max()"
   ]
  },
  {
   "cell_type": "markdown",
   "metadata": {},
   "source": [
    "Second, we note that there are sixty two unique values for the Gender variable."
   ]
  },
  {
   "cell_type": "code",
   "execution_count": 25,
   "metadata": {},
   "outputs": [
    {
     "name": "stdout",
     "output_type": "stream",
     "text": [
      "1. Human\n",
      "2. Icthyo Sapien\n",
      "3. Ungaran\n",
      "4. Human / Radiation\n",
      "5. Cosmic Entity\n",
      "6. -\n",
      "7. Cyborg\n",
      "8. Xenomorph XX121\n",
      "9. Android\n",
      "10. Vampire\n",
      "11. Mutant\n",
      "12. God / Eternal\n",
      "13. Symbiote\n",
      "14. Atlantean\n",
      "15. Alien\n",
      "16. Neyaphem\n",
      "17. New God\n",
      "18. Alpha\n",
      "19. Bizarro\n",
      "20. Inhuman\n",
      "21. Metahuman\n",
      "22. Demon\n",
      "23. Human / Clone\n",
      "24. Human-Kree\n",
      "25. Dathomirian Zabrak\n",
      "26. Amazon\n",
      "27. Human / Cosmic\n",
      "28. Human / Altered\n",
      "29. Kryptonian\n",
      "30. Kakarantharaian\n",
      "31. Zen-Whoberian\n",
      "32. Strontian\n",
      "33. Kaiju\n",
      "34. Saiyan\n",
      "35. Gorilla\n",
      "36. Rodian\n",
      "37. Flora Colossus\n",
      "38. Human-Vuldarian\n",
      "39. Asgardian\n",
      "40. Demi-God\n",
      "41. Eternal\n",
      "42. Gungan\n",
      "43. Bolovaxian\n",
      "44. Animal\n",
      "45. Czarnian\n",
      "46. Martian\n",
      "47. Spartoi\n",
      "48. Planet\n",
      "49. Luphomoid\n",
      "50. Parademon\n",
      "51. Yautja\n",
      "52. Maiar\n",
      "53. Clone\n",
      "54. Talokite\n",
      "55. Korugaran\n",
      "56. Zombie\n",
      "57. Human-Vulcan\n",
      "58. Human-Spartoi\n",
      "59. Tamaranean\n",
      "60. Frost Giant\n",
      "61. Mutant / Clone\n",
      "62. Yoda's species\n"
     ]
    }
   ],
   "source": [
    "index = 0\n",
    "for value in heroes_df['Race'].unique():\n",
    "    index += 1\n",
    "    print(str(index)+'. '+value)"
   ]
  },
  {
   "cell_type": "markdown",
   "metadata": {},
   "source": [
    "Third, the value `-` appears to be a dummy value indicating missing data. We replace `-` with `None Provided` below."
   ]
  },
  {
   "cell_type": "code",
   "execution_count": 26,
   "metadata": {},
   "outputs": [],
   "source": [
    "heroes_df['Race'].replace('-', 'None Provided', inplace = True)"
   ]
  },
  {
   "cell_type": "markdown",
   "metadata": {},
   "source": [
    "We confirm that the changes were applied below."
   ]
  },
  {
   "cell_type": "code",
   "execution_count": 27,
   "metadata": {},
   "outputs": [
    {
     "name": "stdout",
     "output_type": "stream",
     "text": [
      "Human\n",
      "Icthyo Sapien\n",
      "Ungaran\n",
      "Human / Radiation\n",
      "Cosmic Entity\n",
      "None Provided\n",
      "Cyborg\n",
      "Xenomorph XX121\n",
      "Android\n",
      "Vampire\n",
      "Mutant\n",
      "God / Eternal\n",
      "Symbiote\n",
      "Atlantean\n",
      "Alien\n",
      "Neyaphem\n",
      "New God\n",
      "Alpha\n",
      "Bizarro\n",
      "Inhuman\n",
      "Metahuman\n",
      "Demon\n",
      "Human / Clone\n",
      "Human-Kree\n",
      "Dathomirian Zabrak\n",
      "Amazon\n",
      "Human / Cosmic\n",
      "Human / Altered\n",
      "Kryptonian\n",
      "Kakarantharaian\n",
      "Zen-Whoberian\n",
      "Strontian\n",
      "Kaiju\n",
      "Saiyan\n",
      "Gorilla\n",
      "Rodian\n",
      "Flora Colossus\n",
      "Human-Vuldarian\n",
      "Asgardian\n",
      "Demi-God\n",
      "Eternal\n",
      "Gungan\n",
      "Bolovaxian\n",
      "Animal\n",
      "Czarnian\n",
      "Martian\n",
      "Spartoi\n",
      "Planet\n",
      "Luphomoid\n",
      "Parademon\n",
      "Yautja\n",
      "Maiar\n",
      "Clone\n",
      "Talokite\n",
      "Korugaran\n",
      "Zombie\n",
      "Human-Vulcan\n",
      "Human-Spartoi\n",
      "Tamaranean\n",
      "Frost Giant\n",
      "Mutant / Clone\n",
      "Yoda's species\n"
     ]
    }
   ],
   "source": [
    "for value in heroes_df['Race'].unique():\n",
    "    print(value)"
   ]
  },
  {
   "cell_type": "markdown",
   "metadata": {},
   "source": [
    "### Hair Color\n",
    "First, we note that there are no missing values. "
   ]
  },
  {
   "cell_type": "code",
   "execution_count": 28,
   "metadata": {},
   "outputs": [
    {
     "data": {
      "text/plain": [
       "False"
      ]
     },
     "execution_count": 28,
     "metadata": {},
     "output_type": "execute_result"
    }
   ],
   "source": [
    "heroes_df['Hair color'].isna().max()"
   ]
  },
  {
   "cell_type": "markdown",
   "metadata": {},
   "source": [
    "Second, we note that there are three unique values for the Gender variable."
   ]
  },
  {
   "cell_type": "code",
   "execution_count": 29,
   "metadata": {},
   "outputs": [
    {
     "name": "stdout",
     "output_type": "stream",
     "text": [
      "1. No Hair\n",
      "2. Black\n",
      "3. Blond\n",
      "4. Brown\n",
      "5. -\n",
      "6. White\n",
      "7. Purple\n",
      "8. Orange\n",
      "9. Pink\n",
      "10. Red\n",
      "11. Auburn\n",
      "12. Strawberry Blond\n",
      "13. black\n",
      "14. Blue\n",
      "15. Green\n",
      "16. Magenta\n",
      "17. Brown / Black\n",
      "18. Brown / White\n",
      "19. blond\n",
      "20. Silver\n",
      "21. Red / Grey\n",
      "22. Grey\n",
      "23. Orange / White\n",
      "24. Yellow\n",
      "25. Brownn\n",
      "26. Gold\n",
      "27. Red / Orange\n",
      "28. Indigo\n",
      "29. Red / White\n",
      "30. Black / Blue\n"
     ]
    }
   ],
   "source": [
    "index = 0\n",
    "for value in heroes_df['Hair color'].unique():\n",
    "    index += 1\n",
    "    print(str(index) + '. ' + value)"
   ]
  },
  {
   "cell_type": "markdown",
   "metadata": {},
   "source": [
    "Third, the value `-` appears to be a dummy value indicating missing data. We replace `-` with `None Provided` below."
   ]
  },
  {
   "cell_type": "code",
   "execution_count": 30,
   "metadata": {},
   "outputs": [],
   "source": [
    "heroes_df['Hair color'].replace('-', 'None Provided', inplace = True)"
   ]
  },
  {
   "cell_type": "markdown",
   "metadata": {},
   "source": [
    "We confirm that the changes were applied below."
   ]
  },
  {
   "cell_type": "code",
   "execution_count": 31,
   "metadata": {
    "scrolled": true
   },
   "outputs": [
    {
     "name": "stdout",
     "output_type": "stream",
     "text": [
      "No Hair\n",
      "Black\n",
      "Blond\n",
      "Brown\n",
      "None Provided\n",
      "White\n",
      "Purple\n",
      "Orange\n",
      "Pink\n",
      "Red\n",
      "Auburn\n",
      "Strawberry Blond\n",
      "black\n",
      "Blue\n",
      "Green\n",
      "Magenta\n",
      "Brown / Black\n",
      "Brown / White\n",
      "blond\n",
      "Silver\n",
      "Red / Grey\n",
      "Grey\n",
      "Orange / White\n",
      "Yellow\n",
      "Brownn\n",
      "Gold\n",
      "Red / Orange\n",
      "Indigo\n",
      "Red / White\n",
      "Black / Blue\n"
     ]
    }
   ],
   "source": [
    "for value in heroes_df['Hair color'].unique():\n",
    "    print(value)"
   ]
  },
  {
   "cell_type": "markdown",
   "metadata": {},
   "source": [
    "### Height\n",
    "First, we note that there are no missing values. "
   ]
  },
  {
   "cell_type": "code",
   "execution_count": 32,
   "metadata": {},
   "outputs": [
    {
     "data": {
      "text/plain": [
       "False"
      ]
     },
     "execution_count": 32,
     "metadata": {},
     "output_type": "execute_result"
    }
   ],
   "source": [
    "heroes_df['Height'].isna().max()"
   ]
  },
  {
   "cell_type": "markdown",
   "metadata": {},
   "source": [
    "Second, we note that there are fifty four unique values for the `Height` variable."
   ]
  },
  {
   "cell_type": "code",
   "execution_count": 33,
   "metadata": {},
   "outputs": [
    {
     "name": "stdout",
     "output_type": "stream",
     "text": [
      "1. 203.0\n",
      "2. 191.0\n",
      "3. 185.0\n",
      "4. -99.0\n",
      "5. 193.0\n",
      "6. 173.0\n",
      "7. 178.0\n",
      "8. 188.0\n",
      "9. 180.0\n",
      "10. 244.0\n",
      "11. 257.0\n",
      "12. 183.0\n",
      "13. 165.0\n",
      "14. 163.0\n",
      "15. 211.0\n",
      "16. 61.0\n",
      "17. 229.0\n",
      "18. 213.0\n",
      "19. 175.0\n",
      "20. 198.0\n",
      "21. 168.0\n",
      "22. 170.0\n",
      "23. 201.0\n",
      "24. 218.0\n",
      "25. 30.5\n",
      "26. 196.0\n",
      "27. 157.0\n",
      "28. 226.0\n",
      "29. 267.0\n",
      "30. 122.0\n",
      "31. 975.0\n",
      "32. 142.0\n",
      "33. 876.0\n",
      "34. 62.5\n",
      "35. 108.0\n",
      "36. 701.0\n",
      "37. 259.0\n",
      "38. 79.0\n",
      "39. 155.0\n",
      "40. 71.0\n",
      "41. 287.0\n",
      "42. 234.0\n",
      "43. 64.0\n",
      "44. 366.0\n",
      "45. 206.0\n",
      "46. 305.0\n",
      "47. 297.0\n",
      "48. 137.0\n",
      "49. 279.0\n",
      "50. 15.2\n",
      "51. 140.0\n",
      "52. 160.0\n",
      "53. 304.8\n",
      "54. 66.0\n"
     ]
    }
   ],
   "source": [
    "index = 0\n",
    "for value in heroes_df['Height'].unique():\n",
    "    index += 1\n",
    "    print(str(index) + '. ' + str(value))"
   ]
  },
  {
   "cell_type": "markdown",
   "metadata": {},
   "source": [
    "Third, the value `-99.0` appears to be a dummy value indicating missing data. We replace `-99.0` with `NaN` below."
   ]
  },
  {
   "cell_type": "code",
   "execution_count": 34,
   "metadata": {},
   "outputs": [],
   "source": [
    "heroes_df['Height'] = heroes_df['Height'].apply(lambda x: np.nan if x == -99 else x)"
   ]
  },
  {
   "cell_type": "markdown",
   "metadata": {},
   "source": [
    "We confirm that the changes were applied below."
   ]
  },
  {
   "cell_type": "code",
   "execution_count": 35,
   "metadata": {
    "scrolled": true
   },
   "outputs": [
    {
     "name": "stdout",
     "output_type": "stream",
     "text": [
      "1. 203.0\n",
      "2. 191.0\n",
      "3. 185.0\n",
      "4. nan\n",
      "5. 193.0\n",
      "6. 173.0\n",
      "7. 178.0\n",
      "8. 188.0\n",
      "9. 180.0\n",
      "10. 244.0\n",
      "11. 257.0\n",
      "12. 183.0\n",
      "13. 165.0\n",
      "14. 163.0\n",
      "15. 211.0\n",
      "16. 61.0\n",
      "17. 229.0\n",
      "18. 213.0\n",
      "19. 175.0\n",
      "20. 198.0\n",
      "21. 168.0\n",
      "22. 170.0\n",
      "23. 201.0\n",
      "24. 218.0\n",
      "25. 30.5\n",
      "26. 196.0\n",
      "27. 157.0\n",
      "28. 226.0\n",
      "29. 267.0\n",
      "30. 122.0\n",
      "31. 975.0\n",
      "32. 142.0\n",
      "33. 876.0\n",
      "34. 62.5\n",
      "35. 108.0\n",
      "36. 701.0\n",
      "37. 259.0\n",
      "38. 79.0\n",
      "39. 155.0\n",
      "40. 71.0\n",
      "41. 287.0\n",
      "42. 234.0\n",
      "43. 64.0\n",
      "44. 366.0\n",
      "45. 206.0\n",
      "46. 305.0\n",
      "47. 297.0\n",
      "48. 137.0\n",
      "49. 279.0\n",
      "50. 15.2\n",
      "51. 140.0\n",
      "52. 160.0\n",
      "53. 304.8\n",
      "54. 66.0\n"
     ]
    }
   ],
   "source": [
    "index = 0\n",
    "for value in heroes_df['Height'].unique():\n",
    "    index += 1\n",
    "    print(str(index) + '. ' + str(value))"
   ]
  },
  {
   "cell_type": "markdown",
   "metadata": {},
   "source": [
    "### Publisher\n",
    "First, we note that there are fifteen missing values. "
   ]
  },
  {
   "cell_type": "code",
   "execution_count": 36,
   "metadata": {},
   "outputs": [
    {
     "data": {
      "text/plain": [
       "15"
      ]
     },
     "execution_count": 36,
     "metadata": {},
     "output_type": "execute_result"
    }
   ],
   "source": [
    "heroes_df['Publisher'].isna().sum()"
   ]
  },
  {
   "cell_type": "markdown",
   "metadata": {},
   "source": [
    "Second, we note that there are twenty five unique values for the `Publisher` variable."
   ]
  },
  {
   "cell_type": "code",
   "execution_count": 37,
   "metadata": {},
   "outputs": [
    {
     "name": "stdout",
     "output_type": "stream",
     "text": [
      "1. Marvel Comics\n",
      "2. Dark Horse Comics\n",
      "3. DC Comics\n",
      "4. NBC - Heroes\n",
      "5. Wildstorm\n",
      "6. Image Comics\n",
      "7. nan\n",
      "8. Icon Comics\n",
      "9. SyFy\n",
      "10. Hanna-Barbera\n",
      "11. George Lucas\n",
      "12. Team Epic TV\n",
      "13. South Park\n",
      "14. HarperCollins\n",
      "15. ABC Studios\n",
      "16. Universal Studios\n",
      "17. Star Trek\n",
      "18. IDW Publishing\n",
      "19. Shueisha\n",
      "20. Sony Pictures\n",
      "21. J. K. Rowling\n",
      "22. Titan Books\n",
      "23. Rebellion\n",
      "24. Microsoft\n",
      "25. J. R. R. Tolkien\n"
     ]
    }
   ],
   "source": [
    "index = 0\n",
    "for value in heroes_df['Publisher'].unique():\n",
    "    index += 1\n",
    "    print(str(index) + '. ' + str(value))"
   ]
  },
  {
   "cell_type": "markdown",
   "metadata": {},
   "source": [
    "Third, we replace missing values with `None Provided` below."
   ]
  },
  {
   "cell_type": "code",
   "execution_count": 38,
   "metadata": {},
   "outputs": [],
   "source": [
    "heroes_df['Publisher'].fillna('None Provided', inplace = True)"
   ]
  },
  {
   "cell_type": "markdown",
   "metadata": {},
   "source": [
    "We confirm that the changes were applied below."
   ]
  },
  {
   "cell_type": "code",
   "execution_count": 39,
   "metadata": {
    "scrolled": true
   },
   "outputs": [
    {
     "name": "stdout",
     "output_type": "stream",
     "text": [
      "1. Marvel Comics\n",
      "2. Dark Horse Comics\n",
      "3. DC Comics\n",
      "4. NBC - Heroes\n",
      "5. Wildstorm\n",
      "6. Image Comics\n",
      "7. None Provided\n",
      "8. Icon Comics\n",
      "9. SyFy\n",
      "10. Hanna-Barbera\n",
      "11. George Lucas\n",
      "12. Team Epic TV\n",
      "13. South Park\n",
      "14. HarperCollins\n",
      "15. ABC Studios\n",
      "16. Universal Studios\n",
      "17. Star Trek\n",
      "18. IDW Publishing\n",
      "19. Shueisha\n",
      "20. Sony Pictures\n",
      "21. J. K. Rowling\n",
      "22. Titan Books\n",
      "23. Rebellion\n",
      "24. Microsoft\n",
      "25. J. R. R. Tolkien\n"
     ]
    }
   ],
   "source": [
    "index = 0\n",
    "for value in heroes_df['Publisher'].unique():\n",
    "    index += 1\n",
    "    print(str(index) + '. ' + str(value))"
   ]
  },
  {
   "cell_type": "markdown",
   "metadata": {},
   "source": [
    "### Skin Color\n",
    "First, we note that there are no missing values. "
   ]
  },
  {
   "cell_type": "code",
   "execution_count": 40,
   "metadata": {},
   "outputs": [
    {
     "data": {
      "text/plain": [
       "False"
      ]
     },
     "execution_count": 40,
     "metadata": {},
     "output_type": "execute_result"
    }
   ],
   "source": [
    "heroes_df['Skin color'].isna().max()"
   ]
  },
  {
   "cell_type": "markdown",
   "metadata": {},
   "source": [
    "Second, we note that there are seventeen unique values for the `skin color` variable."
   ]
  },
  {
   "cell_type": "code",
   "execution_count": 41,
   "metadata": {},
   "outputs": [
    {
     "name": "stdout",
     "output_type": "stream",
     "text": [
      "1. -\n",
      "2. blue\n",
      "3. red\n",
      "4. black\n",
      "5. grey\n",
      "6. gold\n",
      "7. green\n",
      "8. white\n",
      "9. pink\n",
      "10. silver\n",
      "11. red / black\n",
      "12. yellow\n",
      "13. purple\n",
      "14. orange / white\n",
      "15. gray\n",
      "16. blue-white\n",
      "17. orange\n"
     ]
    }
   ],
   "source": [
    "index = 0\n",
    "for value in heroes_df['Skin color'].unique():\n",
    "    index +=1\n",
    "    print(str(index)+'. '+value)"
   ]
  },
  {
   "cell_type": "markdown",
   "metadata": {},
   "source": [
    "Third, the value `-` appears to be a dummy value indicating missing data. We replace `-` with `None Provided` below."
   ]
  },
  {
   "cell_type": "code",
   "execution_count": 42,
   "metadata": {},
   "outputs": [],
   "source": [
    "heroes_df['Skin color'].replace('-', 'None Provided', inplace = True)"
   ]
  },
  {
   "cell_type": "markdown",
   "metadata": {},
   "source": [
    "We confirm that the changes were applied below."
   ]
  },
  {
   "cell_type": "code",
   "execution_count": 43,
   "metadata": {
    "scrolled": true
   },
   "outputs": [
    {
     "name": "stdout",
     "output_type": "stream",
     "text": [
      "1. None Provided\n",
      "2. blue\n",
      "3. red\n",
      "4. black\n",
      "5. grey\n",
      "6. gold\n",
      "7. green\n",
      "8. white\n",
      "9. pink\n",
      "10. silver\n",
      "11. red / black\n",
      "12. yellow\n",
      "13. purple\n",
      "14. orange / white\n",
      "15. gray\n",
      "16. blue-white\n",
      "17. orange\n"
     ]
    }
   ],
   "source": [
    "index = 0\n",
    "for value in heroes_df['Skin color'].unique():\n",
    "    index +=1\n",
    "    print(str(index)+'. '+value)"
   ]
  },
  {
   "cell_type": "markdown",
   "metadata": {},
   "source": [
    "### Alignment\n",
    "First, we note that there are no missing values. "
   ]
  },
  {
   "cell_type": "code",
   "execution_count": 44,
   "metadata": {},
   "outputs": [
    {
     "data": {
      "text/plain": [
       "False"
      ]
     },
     "execution_count": 44,
     "metadata": {},
     "output_type": "execute_result"
    }
   ],
   "source": [
    "heroes_df['Alignment'].isna().max()"
   ]
  },
  {
   "cell_type": "markdown",
   "metadata": {},
   "source": [
    "Second, we note that there are four unique values for the `Alignment` variable."
   ]
  },
  {
   "cell_type": "code",
   "execution_count": 45,
   "metadata": {},
   "outputs": [
    {
     "name": "stdout",
     "output_type": "stream",
     "text": [
      "1. good\n",
      "2. bad\n",
      "3. -\n",
      "4. neutral\n"
     ]
    }
   ],
   "source": [
    "index = 0\n",
    "for value in heroes_df['Alignment'].unique():\n",
    "    index +=1\n",
    "    print(str(index)+'. '+value)"
   ]
  },
  {
   "cell_type": "markdown",
   "metadata": {},
   "source": [
    "Third, the value `-` appears to be a dummy value indicating missing data. We replace `-` with `None Provided` below."
   ]
  },
  {
   "cell_type": "code",
   "execution_count": 46,
   "metadata": {},
   "outputs": [],
   "source": [
    "heroes_df['Alignment'].replace('-', 'None Provided', inplace = True)"
   ]
  },
  {
   "cell_type": "markdown",
   "metadata": {},
   "source": [
    "We confirm that the changes were applied below."
   ]
  },
  {
   "cell_type": "code",
   "execution_count": 47,
   "metadata": {
    "scrolled": true
   },
   "outputs": [
    {
     "name": "stdout",
     "output_type": "stream",
     "text": [
      "1. good\n",
      "2. bad\n",
      "3. None Provided\n",
      "4. neutral\n"
     ]
    }
   ],
   "source": [
    "index = 0\n",
    "for value in heroes_df['Alignment'].unique():\n",
    "    index +=1\n",
    "    print(str(index)+'. '+value)"
   ]
  },
  {
   "cell_type": "markdown",
   "metadata": {},
   "source": [
    "### Weight\n",
    "First, we note that there are two missing values. "
   ]
  },
  {
   "cell_type": "code",
   "execution_count": 48,
   "metadata": {},
   "outputs": [
    {
     "data": {
      "text/plain": [
       "2"
      ]
     },
     "execution_count": 48,
     "metadata": {},
     "output_type": "execute_result"
    }
   ],
   "source": [
    "heroes_df['Weight'].isna().sum()"
   ]
  },
  {
   "cell_type": "markdown",
   "metadata": {},
   "source": [
    "Second, we note that there are one hundred thirty six unique values for the `Weight` variable."
   ]
  },
  {
   "cell_type": "code",
   "execution_count": 49,
   "metadata": {},
   "outputs": [
    {
     "name": "stdout",
     "output_type": "stream",
     "text": [
      "1. 441.0\n",
      "2. 65.0\n",
      "3. 90.0\n",
      "4. -99.0\n",
      "5. 122.0\n",
      "6. 88.0\n",
      "7. 61.0\n",
      "8. 81.0\n",
      "9. 104.0\n",
      "10. 108.0\n",
      "11. 72.0\n",
      "12. 169.0\n",
      "13. 173.0\n",
      "14. 101.0\n",
      "15. 68.0\n",
      "16. 57.0\n",
      "17. 54.0\n",
      "18. 83.0\n",
      "19. 86.0\n",
      "20. 358.0\n",
      "21. 135.0\n",
      "22. 106.0\n",
      "23. 146.0\n",
      "24. 63.0\n",
      "25. 98.0\n",
      "26. 270.0\n",
      "27. 59.0\n",
      "28. 50.0\n",
      "29. 126.0\n",
      "30. 67.0\n",
      "31. 180.0\n",
      "32. 77.0\n",
      "33. 52.0\n",
      "34. 95.0\n",
      "35. 79.0\n",
      "36. 133.0\n",
      "37. 181.0\n",
      "38. 216.0\n",
      "39. 71.0\n",
      "40. 124.0\n",
      "41. 155.0\n",
      "42. 113.0\n",
      "43. 58.0\n",
      "44. 92.0\n",
      "45. 97.0\n",
      "46. 56.0\n",
      "47. 230.0\n",
      "48. 495.0\n",
      "49. 55.0\n",
      "50. 110.0\n",
      "51. 99.0\n",
      "52. 158.0\n",
      "53. 74.0\n",
      "54. 116.0\n",
      "55. 62.0\n",
      "56. 170.0\n",
      "57. 70.0\n",
      "58. 78.0\n",
      "59. 225.0\n",
      "60. 817.0\n",
      "61. 27.0\n",
      "62. 91.0\n",
      "63. 178.0\n",
      "64. 383.0\n",
      "65. 171.0\n",
      "66. 187.0\n",
      "67. 132.0\n",
      "68. 89.0\n",
      "69. 412.0\n",
      "70. 306.0\n",
      "71. 80.0\n",
      "72. 203.0\n",
      "73. 96.0\n",
      "74. 18.0\n",
      "75. 45.0\n",
      "76. 167.0\n",
      "77. 16.0\n",
      "78. 630.0\n",
      "79. 268.0\n",
      "80. nan\n",
      "81. 115.0\n",
      "82. 4.0\n",
      "83. 48.0\n",
      "84. 119.0\n",
      "85. 207.0\n",
      "86. 191.0\n",
      "87. 2.0\n",
      "88. 14.0\n",
      "89. 49.0\n",
      "90. 855.0\n",
      "91. 356.0\n",
      "92. 324.0\n",
      "93. 360.0\n",
      "94. 288.0\n",
      "95. 236.0\n",
      "96. 36.0\n",
      "97. 140.0\n",
      "98. 128.0\n",
      "99. 338.0\n",
      "100. 248.0\n",
      "101. 125.0\n",
      "102. 85.0\n",
      "103. 293.0\n",
      "104. 69.0\n",
      "105. 405.0\n",
      "106. 117.0\n",
      "107. 87.0\n",
      "108. 234.0\n",
      "109. 320.0\n",
      "110. 38.0\n",
      "111. 25.0\n",
      "112. 900.0\n",
      "113. 310.0\n",
      "114. 149.0\n",
      "115. 315.0\n",
      "116. 153.0\n",
      "117. 437.0\n",
      "118. 131.0\n",
      "119. 47.0\n",
      "120. 176.0\n",
      "121. 198.0\n",
      "122. 443.0\n",
      "123. 143.0\n",
      "124. 76.0\n",
      "125. 82.0\n",
      "126. 105.0\n",
      "127. 331.0\n",
      "128. 214.0\n",
      "129. 73.0\n",
      "130. 334.0\n",
      "131. 41.0\n",
      "132. 162.0\n",
      "133. 39.0\n",
      "134. 473.0\n",
      "135. 51.0\n",
      "136. 17.0\n"
     ]
    }
   ],
   "source": [
    "index = 0\n",
    "for value in heroes_df['Weight'].unique():\n",
    "    index += 1\n",
    "    print(str(index) + '. ' + str(value))"
   ]
  },
  {
   "cell_type": "markdown",
   "metadata": {},
   "source": [
    "Third, the value `-99.0` appears to be a dummy value indicating missing data. We replace `-99.0` with `NaN` below."
   ]
  },
  {
   "cell_type": "code",
   "execution_count": 50,
   "metadata": {},
   "outputs": [],
   "source": [
    "heroes_df['Weight'] = heroes_df['Weight'].apply(lambda x: np.nan if x == -99 else x)"
   ]
  },
  {
   "cell_type": "markdown",
   "metadata": {},
   "source": [
    "We confirm that the changes were applied below."
   ]
  },
  {
   "cell_type": "code",
   "execution_count": 51,
   "metadata": {
    "scrolled": true
   },
   "outputs": [
    {
     "name": "stdout",
     "output_type": "stream",
     "text": [
      "1. 441.0\n",
      "2. 65.0\n",
      "3. 90.0\n",
      "4. nan\n",
      "5. 122.0\n",
      "6. 88.0\n",
      "7. 61.0\n",
      "8. 81.0\n",
      "9. 104.0\n",
      "10. 108.0\n",
      "11. 72.0\n",
      "12. 169.0\n",
      "13. 173.0\n",
      "14. 101.0\n",
      "15. 68.0\n",
      "16. 57.0\n",
      "17. 54.0\n",
      "18. 83.0\n",
      "19. 86.0\n",
      "20. 358.0\n",
      "21. 135.0\n",
      "22. 106.0\n",
      "23. 146.0\n",
      "24. 63.0\n",
      "25. 98.0\n",
      "26. 270.0\n",
      "27. 59.0\n",
      "28. 50.0\n",
      "29. 126.0\n",
      "30. 67.0\n",
      "31. 180.0\n",
      "32. 77.0\n",
      "33. 52.0\n",
      "34. 95.0\n",
      "35. 79.0\n",
      "36. 133.0\n",
      "37. 181.0\n",
      "38. 216.0\n",
      "39. 71.0\n",
      "40. 124.0\n",
      "41. 155.0\n",
      "42. 113.0\n",
      "43. 58.0\n",
      "44. 92.0\n",
      "45. 97.0\n",
      "46. 56.0\n",
      "47. 230.0\n",
      "48. 495.0\n",
      "49. 55.0\n",
      "50. 110.0\n",
      "51. 99.0\n",
      "52. 158.0\n",
      "53. 74.0\n",
      "54. 116.0\n",
      "55. 62.0\n",
      "56. 170.0\n",
      "57. 70.0\n",
      "58. 78.0\n",
      "59. 225.0\n",
      "60. 817.0\n",
      "61. 27.0\n",
      "62. 91.0\n",
      "63. 178.0\n",
      "64. 383.0\n",
      "65. 171.0\n",
      "66. 187.0\n",
      "67. 132.0\n",
      "68. 89.0\n",
      "69. 412.0\n",
      "70. 306.0\n",
      "71. 80.0\n",
      "72. 203.0\n",
      "73. 96.0\n",
      "74. 18.0\n",
      "75. 45.0\n",
      "76. 167.0\n",
      "77. 16.0\n",
      "78. 630.0\n",
      "79. 268.0\n",
      "80. 115.0\n",
      "81. 4.0\n",
      "82. 48.0\n",
      "83. 119.0\n",
      "84. 207.0\n",
      "85. 191.0\n",
      "86. 2.0\n",
      "87. 14.0\n",
      "88. 49.0\n",
      "89. 855.0\n",
      "90. 356.0\n",
      "91. 324.0\n",
      "92. 360.0\n",
      "93. 288.0\n",
      "94. 236.0\n",
      "95. 36.0\n",
      "96. 140.0\n",
      "97. 128.0\n",
      "98. 338.0\n",
      "99. 248.0\n",
      "100. 125.0\n",
      "101. 85.0\n",
      "102. 293.0\n",
      "103. 69.0\n",
      "104. 405.0\n",
      "105. 117.0\n",
      "106. 87.0\n",
      "107. 234.0\n",
      "108. 320.0\n",
      "109. 38.0\n",
      "110. 25.0\n",
      "111. 900.0\n",
      "112. 310.0\n",
      "113. 149.0\n",
      "114. 315.0\n",
      "115. 153.0\n",
      "116. 437.0\n",
      "117. 131.0\n",
      "118. 47.0\n",
      "119. 176.0\n",
      "120. 198.0\n",
      "121. 443.0\n",
      "122. 143.0\n",
      "123. 76.0\n",
      "124. 82.0\n",
      "125. 105.0\n",
      "126. 331.0\n",
      "127. 214.0\n",
      "128. 73.0\n",
      "129. 334.0\n",
      "130. 41.0\n",
      "131. 162.0\n",
      "132. 39.0\n",
      "133. 473.0\n",
      "134. 51.0\n",
      "135. 17.0\n"
     ]
    }
   ],
   "source": [
    "index = 0\n",
    "for value in heroes_df['Weight'].unique():\n",
    "    index += 1\n",
    "    print(str(index) + '. ' + str(value))"
   ]
  },
  {
   "cell_type": "markdown",
   "metadata": {},
   "source": [
    "## Joining, Grouping, and Aggregating\n",
    "\n",
    "In the cell below, join the two DataFrames.  Think about which sort of join you should use, as well as which columns you should join on.  Rename columns and manipulate as needed.  \n",
    "\n",
    "**_HINT:_** Consider the possibility that the columns you choose to join on contain duplicate entries. If that is the case, devise a strategy to deal with the duplicates.\n",
    "\n",
    "**_HINT:_** If the join throws an error message, consider setting the column you want to join on as the index for each DataFrame.  "
   ]
  },
  {
   "cell_type": "code",
   "execution_count": 52,
   "metadata": {},
   "outputs": [],
   "source": [
    "df = heroes_df.join(powers_df, on='name')"
   ]
  },
  {
   "cell_type": "markdown",
   "metadata": {},
   "source": [
    "In the cell below, subset male and female heroes into different dataframes.  Create a scatterplot of the height and weight of each hero, with weight as the y-axis.  Plot both the male and female heroes subset into each dataframe, and make the color for each point in the scatterplot correspond to the gender of the superhero."
   ]
  },
  {
   "cell_type": "code",
   "execution_count": 53,
   "metadata": {},
   "outputs": [
    {
     "data": {
      "text/plain": [
       "<AxesSubplot:xlabel='Height', ylabel='Weight'>"
      ]
     },
     "execution_count": 53,
     "metadata": {},
     "output_type": "execute_result"
    },
    {
     "data": {
      "image/png": "[encoded data removed]",
      "text/plain": [
       "<Figure size 864x864 with 1 Axes>"
      ]
     },
     "metadata": {
      "needs_background": "light"
     },
     "output_type": "display_data"
    }
   ],
   "source": [
    "df.plot.scatter('Height', \n",
    "                'Weight', \n",
    "                c = df['Gender'].apply(lambda x: 'Red' if x == 'Male' else 'Blue' if x == 'Female' else 'Black' ),\n",
    "                figsize = (12,12))"
   ]
  },
  {
   "cell_type": "markdown",
   "metadata": {},
   "source": [
    "## Some Initial Investigation\n",
    "\n",
    "Next, slice the DataFrame as needed and visualize the distribution of heights and weights by gender.  You should have 4 total plots.  \n",
    "\n",
    "In the cell below:\n",
    "\n",
    "* Slice the DataFrame into separate DataFrames by gender\n",
    "* Complete the `show_distplot()` function.  This helper function should take in a DataFrame, a string containing the gender we want to visualize, and the column name we want to visualize by gender. The function should display a distplot visualization from seaborn of the column/gender combination.  \n",
    "\n",
    "Hint: Don't forget to check the [seaborn documentation for distplot](https://seaborn.pydata.org/generated/seaborn.distplot.html) if you have questions about how to use it correctly! "
   ]
  },
  {
   "cell_type": "code",
   "execution_count": 54,
   "metadata": {},
   "outputs": [],
   "source": [
    "male_heroes_df = None\n",
    "female_heroes_df = None\n",
    "\n",
    "def show_distplot(dataframe, gender, column_name):\n",
    "    data = dataframe[dataframe['Gender'] == gender][column_name]\n",
    "    data.hist()\n",
    "    print(data.describe())\n",
    "    "
   ]
  },
  {
   "cell_type": "code",
   "execution_count": 55,
   "metadata": {},
   "outputs": [
    {
     "name": "stdout",
     "output_type": "stream",
     "text": [
      "count    358.000000\n",
      "mean     191.974860\n",
      "std       68.826912\n",
      "min       15.200000\n",
      "25%      180.000000\n",
      "50%      185.000000\n",
      "75%      193.000000\n",
      "max      975.000000\n",
      "Name: Height, dtype: float64\n"
     ]
    },
    {
     "data": {
      "image/png": "[encoded data removed]",
      "text/plain": [
       "<Figure size 432x288 with 1 Axes>"
      ]
     },
     "metadata": {
      "needs_background": "light"
     },
     "output_type": "display_data"
    }
   ],
   "source": [
    "# Male Height\n",
    "show_distplot(df, 'Male', 'Height')"
   ]
  },
  {
   "cell_type": "code",
   "execution_count": 56,
   "metadata": {},
   "outputs": [
    {
     "name": "stdout",
     "output_type": "stream",
     "text": [
      "count    339.000000\n",
      "mean     125.572271\n",
      "std      110.821822\n",
      "min        2.000000\n",
      "25%       79.000000\n",
      "50%       90.000000\n",
      "75%      122.000000\n",
      "max      900.000000\n",
      "Name: Weight, dtype: float64\n"
     ]
    },
    {
     "data": {
      "image/png": "[encoded data removed]",
      "text/plain": [
       "<Figure size 432x288 with 1 Axes>"
      ]
     },
     "metadata": {
      "needs_background": "light"
     },
     "output_type": "display_data"
    }
   ],
   "source": [
    "# Male Weight\n",
    "show_distplot(df, 'Male', 'Weight')"
   ]
  },
  {
   "cell_type": "code",
   "execution_count": 57,
   "metadata": {},
   "outputs": [
    {
     "name": "stdout",
     "output_type": "stream",
     "text": [
      "count    144.000000\n",
      "mean     174.684028\n",
      "std       23.697817\n",
      "min       62.500000\n",
      "25%      168.000000\n",
      "50%      170.000000\n",
      "75%      178.000000\n",
      "max      366.000000\n",
      "Name: Height, dtype: float64\n"
     ]
    },
    {
     "data": {
      "image/png": "[encoded data removed]",
      "text/plain": [
       "<Figure size 432x288 with 1 Axes>"
      ]
     },
     "metadata": {
      "needs_background": "light"
     },
     "output_type": "display_data"
    }
   ],
   "source": [
    "# Female Height\n",
    "show_distplot(df, 'Female', 'Height')"
   ]
  },
  {
   "cell_type": "code",
   "execution_count": 58,
   "metadata": {},
   "outputs": [
    {
     "name": "stdout",
     "output_type": "stream",
     "text": [
      "count    142.000000\n",
      "mean      78.838028\n",
      "std       76.975877\n",
      "min       41.000000\n",
      "25%       54.000000\n",
      "50%       58.000000\n",
      "75%       65.000000\n",
      "max      630.000000\n",
      "Name: Weight, dtype: float64\n"
     ]
    },
    {
     "data": {
      "image/png": "[encoded data removed]",
      "text/plain": [
       "<Figure size 432x288 with 1 Axes>"
      ]
     },
     "metadata": {
      "needs_background": "light"
     },
     "output_type": "display_data"
    }
   ],
   "source": [
    "# Female Weight\n",
    "show_distplot(df, 'Female', 'Weight')"
   ]
  },
  {
   "cell_type": "markdown",
   "metadata": {},
   "source": [
    "Discuss your findings from the plots above, with respect to the distribution of height and weight by gender.  Your explanation should include a discussion of any relevant summary statistics, including mean, median, mode, and the overall shape of each distribution.  \n",
    "\n",
    "Write your answer below this line:\n",
    "____________________________________________________________________________________________________________________________\n",
    "\n",
    "All four distributions are right skewed with fairly extreme outliers. Mode and median tend to agree with humanoid proportions. Mean is skewed by outliers as one would expect."
   ]
  },
  {
   "cell_type": "markdown",
   "metadata": {},
   "source": [
    "### Sample Question: Most Common Powers\n",
    "\n",
    "The rest of this notebook will be left to you to investigate the dataset by formulating your own questions, and then seeking answers using pandas and numpy.  Every answer should include some sort of visualization, when appropriate. Before moving on to formulating your own questions, use the dataset to answer the following questions about superhero powers:\n",
    "\n",
    "* What are the 5 most common powers overall?\n",
    "* What are the 5 most common powers in the Marvel Universe?\n",
    "* What are the 5 most common powers in the DC Universe?"
   ]
  },
  {
   "cell_type": "code",
   "execution_count": 59,
   "metadata": {},
   "outputs": [
    {
     "data": {
      "text/plain": [
       "Super Strength    360\n",
       "Stamina           289\n",
       "Durability        257\n",
       "Super Speed       249\n",
       "Agility           242\n",
       "dtype: int64"
      ]
     },
     "execution_count": 59,
     "metadata": {},
     "output_type": "execute_result"
    }
   ],
   "source": [
    "powers_df.sum().sort_values(ascending = False).head(5)"
   ]
  },
  {
   "cell_type": "code",
   "execution_count": 60,
   "metadata": {},
   "outputs": [
    {
     "data": {
      "text/plain": [
       "Index(['name', 'Gender', 'Eye color', 'Race', 'Hair color', 'Height',\n",
       "       'Publisher', 'Skin color', 'Alignment', 'Weight',\n",
       "       ...\n",
       "       'Web Creation', 'Reality Warping', 'Odin Force', 'Symbiote Costume',\n",
       "       'Speed Force', 'Phoenix Force', 'Molecular Dissipation',\n",
       "       'Vision - Cryo', 'Omnipresent', 'Omniscient'],\n",
       "      dtype='object', length=177)"
      ]
     },
     "execution_count": 60,
     "metadata": {},
     "output_type": "execute_result"
    }
   ],
   "source": [
    "df.columns"
   ]
  },
  {
   "cell_type": "code",
   "execution_count": 61,
   "metadata": {},
   "outputs": [
    {
     "data": {
      "text/plain": [
       "Super Strength    204.0\n",
       "Durability        154.0\n",
       "Stamina           150.0\n",
       "Super Speed       137.0\n",
       "Agility           126.0\n",
       "dtype: float64"
      ]
     },
     "execution_count": 61,
     "metadata": {},
     "output_type": "execute_result"
    }
   ],
   "source": [
    "df[df['Publisher'] == 'Marvel Comics'].drop(heroes_df.columns, axis = 1).sum().sort_values(ascending = False).head(5)"
   ]
  },
  {
   "cell_type": "code",
   "execution_count": 62,
   "metadata": {},
   "outputs": [
    {
     "data": {
      "text/plain": [
       "Super Strength    109.0\n",
       "Stamina            90.0\n",
       "Flight             86.0\n",
       "Super Speed        79.0\n",
       "Agility            71.0\n",
       "dtype: float64"
      ]
     },
     "execution_count": 62,
     "metadata": {},
     "output_type": "execute_result"
    }
   ],
   "source": [
    "df[df['Publisher'] == 'DC Comics'].drop(heroes_df.columns, axis = 1).sum().sort_values(ascending = False).head(5)"
   ]
  },
  {
   "cell_type": "code",
   "execution_count": null,
   "metadata": {},
   "outputs": [],
   "source": []
  },
  {
   "cell_type": "markdown",
   "metadata": {},
   "source": [
    "Analyze the results you found above to answer the following question:\n",
    "\n",
    "How do the top 5 powers in the Marvel and DC universes compare?  Are they similar, or are there significant differences? How do they compare to the overall trends in the entire Superheroes dataset?\n",
    "\n",
    "Write your answer below this line:\n",
    "____________________________________________________________________________________________________________________________\n",
    "\n",
    "\n",
    "### Your Own Investigation\n",
    "\n",
    "For the remainder of this lab, you'll be focusing on coming up with and answering your own question, just like we did above.  Your question should not be overly simple, and should require both descriptive statistics and data visualization to answer.  In case you're unsure of what questions to ask, some sample questions have been provided below.\n",
    "\n",
    "Pick one of the following questions to investigate and answer, or come up with one of your own!\n",
    "\n",
    "* Which powers have the highest chance of co-occurring in a hero (e.g. super strength and flight), and does this differ by gender?\n",
    "* Is there a relationship between a hero's height and weight and their powerset?\n",
    "* What is the distribution of skin colors amongst alien heroes?\n",
    "\n",
    "Explain your question below this line:\n",
    "____________________________________________________________________________________________________________________________\n",
    "\n",
    "Super Strength is the most common power for both publishers. Stamina, Super Speed, and Agility are represented among the top five powers for both publishers. Durability was unique to the Marvel top five while Flight was unique to the DC top five.  \n",
    "\n",
    "Some sample cells have been provided to give you room to work. If you need to create more cells, you can do this easily by:\n",
    "\n",
    "1. Highlighting a cell and then pressing `esc` to enter command mode.\n",
    "1. Pressing `b` to add a cell below the currently highlighted cell, or `a` to add one above it.  \n",
    "\n",
    "Be sure to include thoughtful, well-labeled visualizations to back up your analysis!"
   ]
  },
  {
   "cell_type": "code",
   "execution_count": 63,
   "metadata": {},
   "outputs": [
    {
     "data": {
      "text/plain": [
       "array([[<AxesSubplot:xlabel='Height', ylabel='Height'>,\n",
       "        <AxesSubplot:xlabel='Weight', ylabel='Height'>],\n",
       "       [<AxesSubplot:xlabel='Height', ylabel='Weight'>,\n",
       "        <AxesSubplot:xlabel='Weight', ylabel='Weight'>]], dtype=object)"
      ]
     },
     "execution_count": 63,
     "metadata": {},
     "output_type": "execute_result"
    },
    {
     "data": {
      "image/png": "[encoded data removed]",
      "text/plain": [
       "<Figure size 432x288 with 4 Axes>"
      ]
     },
     "metadata": {
      "needs_background": "light"
     },
     "output_type": "display_data"
    }
   ],
   "source": [
    "pd.plotting.scatter_matrix(heroes_df)"
   ]
  },
  {
   "cell_type": "code",
   "execution_count": null,
   "metadata": {},
   "outputs": [],
   "source": []
  },
  {
   "cell_type": "code",
   "execution_count": null,
   "metadata": {},
   "outputs": [],
   "source": []
  },
  {
   "cell_type": "code",
   "execution_count": null,
   "metadata": {},
   "outputs": [],
   "source": []
  },
  {
   "cell_type": "code",
   "execution_count": null,
   "metadata": {},
   "outputs": [],
   "source": []
  },
  {
   "cell_type": "markdown",
   "metadata": {},
   "source": [
    "## Summary\n",
    "\n",
    "In this lab, we demonstrated our mastery of:\n",
    "* Using all of our Pandas knowledge to date to clean the dataset and deal with null values\n",
    "* Using Queries and aggregations to group the data into interesting subsets as needed\n",
    "* Using descriptive statistics and data visualization to find answers to questions we may have about the data"
   ]
  }
 ],
 "metadata": {
  "kernelspec": {
   "display_name": "Python 3",
   "language": "python",
   "name": "python3"
  },
  "language_info": {
   "codemirror_mode": {
    "name": "ipython",
    "version": 3
   },
   "file_extension": ".py",
   "mimetype": "text/x-python",
   "name": "python",
   "nbconvert_exporter": "python",
   "pygments_lexer": "ipython3",
   "version": "3.6.9"
  }
 },
 "nbformat": 4,
 "nbformat_minor": 2
}
